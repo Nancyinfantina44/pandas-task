{
  "cells": [
    {
      "cell_type": "markdown",
      "metadata": {
        "id": "view-in-github",
        "colab_type": "text"
      },
      "source": [
        "<a href=\"https://colab.research.google.com/github/Nancyinfantina44/pandas-task/blob/main/Copy_of_Assessment2B.ipynb\" target=\"_parent\"><img src=\"https://colab.research.google.com/assets/colab-badge.svg\" alt=\"Open In Colab\"/></a>"
      ]
    },
    {
      "cell_type": "markdown",
      "metadata": {
        "id": "1ZgwHBf2xzGI"
      },
      "source": [
        "###### Assessment"
      ]
    },
    {
      "cell_type": "markdown",
      "metadata": {
        "id": "nPcX2fRZxzGR"
      },
      "source": [
        "###### I am going to provide two .csv files , you are supposed to work on them and have to provide solutions to the following problems"
      ]
    },
    {
      "cell_type": "markdown",
      "metadata": {
        "id": "rwgXORxoxzGS"
      },
      "source": [
        "###### import necessary libraries"
      ]
    },
    {
      "cell_type": "code",
      "execution_count": null,
      "metadata": {
        "id": "Is8YJk9JxzGT"
      },
      "outputs": [],
      "source": [
        "import pandas as pd"
      ]
    },
    {
      "cell_type": "markdown",
      "metadata": {
        "id": "F0VmSxPLxzGU"
      },
      "source": [
        "###### merge those two csv files (after getting as dataframes, get them as a single dataframe)"
      ]
    },
    {
      "cell_type": "code",
      "execution_count": null,
      "metadata": {
        "id": "9ZplgdIexzGU",
        "outputId": "263e3a20-c184-40ee-f51d-06126a07fc19",
        "colab": {
          "base_uri": "https://localhost:8080/",
          "height": 424
        }
      },
      "outputs": [
        {
          "output_type": "execute_result",
          "data": {
            "text/plain": [
              "              Name  python  mysql  Previous Geekions  CodeKata Score  \\\n",
              "0        A.Dharani    82.0   20.0              24500           24500   \n",
              "1      V.JEEVITHA     82.0   20.0              21740           21740   \n",
              "2      HEMAVATHI.R   100.0  100.0              19680           19680   \n",
              "3      Mugunthan S   100.0   47.0              10610           10610   \n",
              "4      Sathammai.S   100.0    8.0               8980            8980   \n",
              "..             ...     ...    ...                ...             ...   \n",
              "79    KarthikeyanS    45.0    0.0                  0               0   \n",
              "80        BARATH.P    29.0    0.0                  0               0   \n",
              "81   N.Ajith kumar    82.0    0.0                  0               0   \n",
              "82    mohamed nabi     0.0    0.0                  0               0   \n",
              "83  yaser ahamed.A     0.0   27.0                  0               0   \n",
              "\n",
              "                                Department  Rising  \n",
              "0         Computer Science and Engineering       0  \n",
              "1         Computer Science and Engineering       0  \n",
              "2         Computer Science and Engineering       0  \n",
              "3         Computer Science and Engineering       0  \n",
              "4         Computer Science and Engineering       0  \n",
              "..                                     ...     ...  \n",
              "79  Electronics and Electrical Engineering       0  \n",
              "80  Electronics and Electrical Engineering       0  \n",
              "81  Electronics and Electrical Engineering       0  \n",
              "82  Electronics and Electrical Engineering       0  \n",
              "83  Electronics and Electrical Engineering       0  \n",
              "\n",
              "[84 rows x 7 columns]"
            ],
            "text/html": [
              "\n",
              "  <div id=\"df-e769f76e-c286-4662-a832-c89498e64894\">\n",
              "    <div class=\"colab-df-container\">\n",
              "      <div>\n",
              "<style scoped>\n",
              "    .dataframe tbody tr th:only-of-type {\n",
              "        vertical-align: middle;\n",
              "    }\n",
              "\n",
              "    .dataframe tbody tr th {\n",
              "        vertical-align: top;\n",
              "    }\n",
              "\n",
              "    .dataframe thead th {\n",
              "        text-align: right;\n",
              "    }\n",
              "</style>\n",
              "<table border=\"1\" class=\"dataframe\">\n",
              "  <thead>\n",
              "    <tr style=\"text-align: right;\">\n",
              "      <th></th>\n",
              "      <th>Name</th>\n",
              "      <th>python</th>\n",
              "      <th>mysql</th>\n",
              "      <th>Previous Geekions</th>\n",
              "      <th>CodeKata Score</th>\n",
              "      <th>Department</th>\n",
              "      <th>Rising</th>\n",
              "    </tr>\n",
              "  </thead>\n",
              "  <tbody>\n",
              "    <tr>\n",
              "      <th>0</th>\n",
              "      <td>A.Dharani</td>\n",
              "      <td>82.0</td>\n",
              "      <td>20.0</td>\n",
              "      <td>24500</td>\n",
              "      <td>24500</td>\n",
              "      <td>Computer Science and Engineering</td>\n",
              "      <td>0</td>\n",
              "    </tr>\n",
              "    <tr>\n",
              "      <th>1</th>\n",
              "      <td>V.JEEVITHA</td>\n",
              "      <td>82.0</td>\n",
              "      <td>20.0</td>\n",
              "      <td>21740</td>\n",
              "      <td>21740</td>\n",
              "      <td>Computer Science and Engineering</td>\n",
              "      <td>0</td>\n",
              "    </tr>\n",
              "    <tr>\n",
              "      <th>2</th>\n",
              "      <td>HEMAVATHI.R</td>\n",
              "      <td>100.0</td>\n",
              "      <td>100.0</td>\n",
              "      <td>19680</td>\n",
              "      <td>19680</td>\n",
              "      <td>Computer Science and Engineering</td>\n",
              "      <td>0</td>\n",
              "    </tr>\n",
              "    <tr>\n",
              "      <th>3</th>\n",
              "      <td>Mugunthan S</td>\n",
              "      <td>100.0</td>\n",
              "      <td>47.0</td>\n",
              "      <td>10610</td>\n",
              "      <td>10610</td>\n",
              "      <td>Computer Science and Engineering</td>\n",
              "      <td>0</td>\n",
              "    </tr>\n",
              "    <tr>\n",
              "      <th>4</th>\n",
              "      <td>Sathammai.S</td>\n",
              "      <td>100.0</td>\n",
              "      <td>8.0</td>\n",
              "      <td>8980</td>\n",
              "      <td>8980</td>\n",
              "      <td>Computer Science and Engineering</td>\n",
              "      <td>0</td>\n",
              "    </tr>\n",
              "    <tr>\n",
              "      <th>...</th>\n",
              "      <td>...</td>\n",
              "      <td>...</td>\n",
              "      <td>...</td>\n",
              "      <td>...</td>\n",
              "      <td>...</td>\n",
              "      <td>...</td>\n",
              "      <td>...</td>\n",
              "    </tr>\n",
              "    <tr>\n",
              "      <th>79</th>\n",
              "      <td>KarthikeyanS</td>\n",
              "      <td>45.0</td>\n",
              "      <td>0.0</td>\n",
              "      <td>0</td>\n",
              "      <td>0</td>\n",
              "      <td>Electronics and Electrical Engineering</td>\n",
              "      <td>0</td>\n",
              "    </tr>\n",
              "    <tr>\n",
              "      <th>80</th>\n",
              "      <td>BARATH.P</td>\n",
              "      <td>29.0</td>\n",
              "      <td>0.0</td>\n",
              "      <td>0</td>\n",
              "      <td>0</td>\n",
              "      <td>Electronics and Electrical Engineering</td>\n",
              "      <td>0</td>\n",
              "    </tr>\n",
              "    <tr>\n",
              "      <th>81</th>\n",
              "      <td>N.Ajith kumar</td>\n",
              "      <td>82.0</td>\n",
              "      <td>0.0</td>\n",
              "      <td>0</td>\n",
              "      <td>0</td>\n",
              "      <td>Electronics and Electrical Engineering</td>\n",
              "      <td>0</td>\n",
              "    </tr>\n",
              "    <tr>\n",
              "      <th>82</th>\n",
              "      <td>mohamed nabi</td>\n",
              "      <td>0.0</td>\n",
              "      <td>0.0</td>\n",
              "      <td>0</td>\n",
              "      <td>0</td>\n",
              "      <td>Electronics and Electrical Engineering</td>\n",
              "      <td>0</td>\n",
              "    </tr>\n",
              "    <tr>\n",
              "      <th>83</th>\n",
              "      <td>yaser ahamed.A</td>\n",
              "      <td>0.0</td>\n",
              "      <td>27.0</td>\n",
              "      <td>0</td>\n",
              "      <td>0</td>\n",
              "      <td>Electronics and Electrical Engineering</td>\n",
              "      <td>0</td>\n",
              "    </tr>\n",
              "  </tbody>\n",
              "</table>\n",
              "<p>84 rows × 7 columns</p>\n",
              "</div>\n",
              "      <button class=\"colab-df-convert\" onclick=\"convertToInteractive('df-e769f76e-c286-4662-a832-c89498e64894')\"\n",
              "              title=\"Convert this dataframe to an interactive table.\"\n",
              "              style=\"display:none;\">\n",
              "        \n",
              "  <svg xmlns=\"http://www.w3.org/2000/svg\" height=\"24px\"viewBox=\"0 0 24 24\"\n",
              "       width=\"24px\">\n",
              "    <path d=\"M0 0h24v24H0V0z\" fill=\"none\"/>\n",
              "    <path d=\"M18.56 5.44l.94 2.06.94-2.06 2.06-.94-2.06-.94-.94-2.06-.94 2.06-2.06.94zm-11 1L8.5 8.5l.94-2.06 2.06-.94-2.06-.94L8.5 2.5l-.94 2.06-2.06.94zm10 10l.94 2.06.94-2.06 2.06-.94-2.06-.94-.94-2.06-.94 2.06-2.06.94z\"/><path d=\"M17.41 7.96l-1.37-1.37c-.4-.4-.92-.59-1.43-.59-.52 0-1.04.2-1.43.59L10.3 9.45l-7.72 7.72c-.78.78-.78 2.05 0 2.83L4 21.41c.39.39.9.59 1.41.59.51 0 1.02-.2 1.41-.59l7.78-7.78 2.81-2.81c.8-.78.8-2.07 0-2.86zM5.41 20L4 18.59l7.72-7.72 1.47 1.35L5.41 20z\"/>\n",
              "  </svg>\n",
              "      </button>\n",
              "      \n",
              "  <style>\n",
              "    .colab-df-container {\n",
              "      display:flex;\n",
              "      flex-wrap:wrap;\n",
              "      gap: 12px;\n",
              "    }\n",
              "\n",
              "    .colab-df-convert {\n",
              "      background-color: #E8F0FE;\n",
              "      border: none;\n",
              "      border-radius: 50%;\n",
              "      cursor: pointer;\n",
              "      display: none;\n",
              "      fill: #1967D2;\n",
              "      height: 32px;\n",
              "      padding: 0 0 0 0;\n",
              "      width: 32px;\n",
              "    }\n",
              "\n",
              "    .colab-df-convert:hover {\n",
              "      background-color: #E2EBFA;\n",
              "      box-shadow: 0px 1px 2px rgba(60, 64, 67, 0.3), 0px 1px 3px 1px rgba(60, 64, 67, 0.15);\n",
              "      fill: #174EA6;\n",
              "    }\n",
              "\n",
              "    [theme=dark] .colab-df-convert {\n",
              "      background-color: #3B4455;\n",
              "      fill: #D2E3FC;\n",
              "    }\n",
              "\n",
              "    [theme=dark] .colab-df-convert:hover {\n",
              "      background-color: #434B5C;\n",
              "      box-shadow: 0px 1px 3px 1px rgba(0, 0, 0, 0.15);\n",
              "      filter: drop-shadow(0px 1px 2px rgba(0, 0, 0, 0.3));\n",
              "      fill: #FFFFFF;\n",
              "    }\n",
              "  </style>\n",
              "\n",
              "      <script>\n",
              "        const buttonEl =\n",
              "          document.querySelector('#df-e769f76e-c286-4662-a832-c89498e64894 button.colab-df-convert');\n",
              "        buttonEl.style.display =\n",
              "          google.colab.kernel.accessAllowed ? 'block' : 'none';\n",
              "\n",
              "        async function convertToInteractive(key) {\n",
              "          const element = document.querySelector('#df-e769f76e-c286-4662-a832-c89498e64894');\n",
              "          const dataTable =\n",
              "            await google.colab.kernel.invokeFunction('convertToInteractive',\n",
              "                                                     [key], {});\n",
              "          if (!dataTable) return;\n",
              "\n",
              "          const docLinkHtml = 'Like what you see? Visit the ' +\n",
              "            '<a target=\"_blank\" href=https://colab.research.google.com/notebooks/data_table.ipynb>data table notebook</a>'\n",
              "            + ' to learn more about interactive tables.';\n",
              "          element.innerHTML = '';\n",
              "          dataTable['output_type'] = 'display_data';\n",
              "          await google.colab.output.renderOutput(dataTable, element);\n",
              "          const docLink = document.createElement('div');\n",
              "          docLink.innerHTML = docLinkHtml;\n",
              "          element.appendChild(docLink);\n",
              "        }\n",
              "      </script>\n",
              "    </div>\n",
              "  </div>\n",
              "  "
            ]
          },
          "metadata": {},
          "execution_count": 7
        }
      ],
      "source": [
        "df1=pd.read_csv('college_1.csv')\n",
        "df2=pd.read_csv('college_2.csv')\n",
        "df1"
      ]
    },
    {
      "cell_type": "code",
      "source": [
        "df2"
      ],
      "metadata": {
        "id": "pqCrJjZJ0NI2",
        "outputId": "585492e5-8940-4530-fe99-d3cc1caa273b",
        "colab": {
          "base_uri": "https://localhost:8080/",
          "height": 1000
        }
      },
      "execution_count": null,
      "outputs": [
        {
          "output_type": "execute_result",
          "data": {
            "text/plain": [
              "                      Name  python  python_en  mysql  computational_thinking  \\\n",
              "0            ASHOK KUMAR K     100          0     31                       9   \n",
              "1                  Chandru       0         20      0                       0   \n",
              "2        Ganesh Ramkumar R      -1         55     24                       6   \n",
              "3          Bodipudi Harini      -1          0     35                      -1   \n",
              "4                VIINU V P      -1        100     24                      -1   \n",
              "5               Poojitha Y       0         78     35                       0   \n",
              "6   Gowtham Chandrasekaran      -1          0      0                       3   \n",
              "7                Gowtham R      -1         60      4                       6   \n",
              "8                 shifak N      58          0      0                       0   \n",
              "9                  Balaji       -1        100     20                       0   \n",
              "10                Rushitha      -1         15     62                       9   \n",
              "11    Balaraman Muthupandi      -1          9      0                       0   \n",
              "12                JPradhap     100          0      0                       0   \n",
              "13           SRIRAMKUMAR B      -1          0      0                       0   \n",
              "14               Praneetha      -1         23    100                      -1   \n",
              "15             Rahul Raj K      -1          0      0                       0   \n",
              "16                 Guhan S      -1         72     35                      39   \n",
              "17            Suryarajan S      -1         63     31                       0   \n",
              "18          Narasimhan Y L      -1         -1      0                       0   \n",
              "19            Leelakrishna      -1          6      4                       0   \n",
              "20          PremsagarReddy      -1         20      0                       0   \n",
              "21               pradeeban      16         20     24                       0   \n",
              "22             santhoshini      -1         43      0                       0   \n",
              "23              MUKESH S M      -1         46      0                       0   \n",
              "24           P.GOVARDHANAN      -1         40      0                      -1   \n",
              "25            SHAIK DANISH      -1         43      0                       0   \n",
              "26               sridhar.s      -1         52      0                       0   \n",
              "27       Vimalesh Fernando      -1          0      0                       0   \n",
              "28           M.Karthikeyan      -1          0      4                       6   \n",
              "29               Abishak s      -1         55     35                       6   \n",
              "30           praveen raj j      24         -1      0                       0   \n",
              "31              AMARNATH D      -1         52     12                      -1   \n",
              "32                    bala      32         49      0                      -1   \n",
              "33                    XY Z      -1         20     -1                      -1   \n",
              "34               Hariharan      -1         -1     -1                       0   \n",
              "\n",
              "    Previous Geekions  CodeKata Score  \\\n",
              "0               19400           19400   \n",
              "1               14150           14490   \n",
              "2                8790           10790   \n",
              "3               10040           10040   \n",
              "4                9150            9150   \n",
              "5                7210            8970   \n",
              "6                7250            8950   \n",
              "7                8650            8650   \n",
              "8                5180            8320   \n",
              "9                6170            8160   \n",
              "10               7470            8090   \n",
              "11               7670            8050   \n",
              "12               7340            8030   \n",
              "13               6400            7940   \n",
              "14               7170            7730   \n",
              "15               6280            7640   \n",
              "16               7310            7630   \n",
              "17               6710            7550   \n",
              "18               4800            6800   \n",
              "19               5300            6640   \n",
              "20               5290            6290   \n",
              "21               6060            6090   \n",
              "22               3910            5740   \n",
              "23               5200            5200   \n",
              "24               5050            5050   \n",
              "25               4050            4820   \n",
              "26               3860            4440   \n",
              "27               4170            4170   \n",
              "28               4020            4020   \n",
              "29               3220            3220   \n",
              "30               2380            2380   \n",
              "31               1890            1890   \n",
              "32               1720            1720   \n",
              "33                  0               0   \n",
              "34                  0               0   \n",
              "\n",
              "                                   Department  Rising  \n",
              "0      Electronics and Electrical Engineering       0  \n",
              "1            Computer Science and Engineering     340  \n",
              "2            Computer Science and Engineering    2000  \n",
              "3   Electronics and Communication Engineering       0  \n",
              "4      Electronics and Electrical Engineering       0  \n",
              "5            Computer Science and Engineering    1760  \n",
              "6            Computer Science and Engineering    1700  \n",
              "7   Electronics and Communication Engineering       0  \n",
              "8      Electronics and Electrical Engineering    3140  \n",
              "9      Electronics and Electrical Engineering    1990  \n",
              "10           Computer Science and Engineering     620  \n",
              "11           Computer Science and Engineering     380  \n",
              "12     Electronics and Electrical Engineering     690  \n",
              "13           Computer Science and Engineering    1540  \n",
              "14  Electronics and Communication Engineering     560  \n",
              "15           Computer Science and Engineering    1360  \n",
              "16  Electronics and Communication Engineering     320  \n",
              "17           Computer Science and Engineering     840  \n",
              "18           Computer Science and Engineering    2000  \n",
              "19           Computer Science and Engineering    1340  \n",
              "20           Computer Science and Engineering    1000  \n",
              "21           Computer Science and Engineering      30  \n",
              "22           Computer Science and Engineering    1830  \n",
              "23           Computer Science and Engineering       0  \n",
              "24  Electronics and Communication Engineering       0  \n",
              "25           Computer Science and Engineering     770  \n",
              "26           Computer Science and Engineering     580  \n",
              "27           Computer Science and Engineering       0  \n",
              "28           Computer Science and Engineering       0  \n",
              "29  Electronics and Communication Engineering       0  \n",
              "30           Computer Science and Engineering       0  \n",
              "31  Electronics and Communication Engineering       0  \n",
              "32  Electronics and Communication Engineering       0  \n",
              "33           Computer Science and Engineering       0  \n",
              "34           Computer Science and Engineering       0  "
            ],
            "text/html": [
              "\n",
              "  <div id=\"df-f6d73882-22ad-4f4a-b81c-1d0484f0f101\">\n",
              "    <div class=\"colab-df-container\">\n",
              "      <div>\n",
              "<style scoped>\n",
              "    .dataframe tbody tr th:only-of-type {\n",
              "        vertical-align: middle;\n",
              "    }\n",
              "\n",
              "    .dataframe tbody tr th {\n",
              "        vertical-align: top;\n",
              "    }\n",
              "\n",
              "    .dataframe thead th {\n",
              "        text-align: right;\n",
              "    }\n",
              "</style>\n",
              "<table border=\"1\" class=\"dataframe\">\n",
              "  <thead>\n",
              "    <tr style=\"text-align: right;\">\n",
              "      <th></th>\n",
              "      <th>Name</th>\n",
              "      <th>python</th>\n",
              "      <th>python_en</th>\n",
              "      <th>mysql</th>\n",
              "      <th>computational_thinking</th>\n",
              "      <th>Previous Geekions</th>\n",
              "      <th>CodeKata Score</th>\n",
              "      <th>Department</th>\n",
              "      <th>Rising</th>\n",
              "    </tr>\n",
              "  </thead>\n",
              "  <tbody>\n",
              "    <tr>\n",
              "      <th>0</th>\n",
              "      <td>ASHOK KUMAR K</td>\n",
              "      <td>100</td>\n",
              "      <td>0</td>\n",
              "      <td>31</td>\n",
              "      <td>9</td>\n",
              "      <td>19400</td>\n",
              "      <td>19400</td>\n",
              "      <td>Electronics and Electrical Engineering</td>\n",
              "      <td>0</td>\n",
              "    </tr>\n",
              "    <tr>\n",
              "      <th>1</th>\n",
              "      <td>Chandru</td>\n",
              "      <td>0</td>\n",
              "      <td>20</td>\n",
              "      <td>0</td>\n",
              "      <td>0</td>\n",
              "      <td>14150</td>\n",
              "      <td>14490</td>\n",
              "      <td>Computer Science and Engineering</td>\n",
              "      <td>340</td>\n",
              "    </tr>\n",
              "    <tr>\n",
              "      <th>2</th>\n",
              "      <td>Ganesh Ramkumar R</td>\n",
              "      <td>-1</td>\n",
              "      <td>55</td>\n",
              "      <td>24</td>\n",
              "      <td>6</td>\n",
              "      <td>8790</td>\n",
              "      <td>10790</td>\n",
              "      <td>Computer Science and Engineering</td>\n",
              "      <td>2000</td>\n",
              "    </tr>\n",
              "    <tr>\n",
              "      <th>3</th>\n",
              "      <td>Bodipudi Harini</td>\n",
              "      <td>-1</td>\n",
              "      <td>0</td>\n",
              "      <td>35</td>\n",
              "      <td>-1</td>\n",
              "      <td>10040</td>\n",
              "      <td>10040</td>\n",
              "      <td>Electronics and Communication Engineering</td>\n",
              "      <td>0</td>\n",
              "    </tr>\n",
              "    <tr>\n",
              "      <th>4</th>\n",
              "      <td>VIINU V P</td>\n",
              "      <td>-1</td>\n",
              "      <td>100</td>\n",
              "      <td>24</td>\n",
              "      <td>-1</td>\n",
              "      <td>9150</td>\n",
              "      <td>9150</td>\n",
              "      <td>Electronics and Electrical Engineering</td>\n",
              "      <td>0</td>\n",
              "    </tr>\n",
              "    <tr>\n",
              "      <th>5</th>\n",
              "      <td>Poojitha Y</td>\n",
              "      <td>0</td>\n",
              "      <td>78</td>\n",
              "      <td>35</td>\n",
              "      <td>0</td>\n",
              "      <td>7210</td>\n",
              "      <td>8970</td>\n",
              "      <td>Computer Science and Engineering</td>\n",
              "      <td>1760</td>\n",
              "    </tr>\n",
              "    <tr>\n",
              "      <th>6</th>\n",
              "      <td>Gowtham Chandrasekaran</td>\n",
              "      <td>-1</td>\n",
              "      <td>0</td>\n",
              "      <td>0</td>\n",
              "      <td>3</td>\n",
              "      <td>7250</td>\n",
              "      <td>8950</td>\n",
              "      <td>Computer Science and Engineering</td>\n",
              "      <td>1700</td>\n",
              "    </tr>\n",
              "    <tr>\n",
              "      <th>7</th>\n",
              "      <td>Gowtham R</td>\n",
              "      <td>-1</td>\n",
              "      <td>60</td>\n",
              "      <td>4</td>\n",
              "      <td>6</td>\n",
              "      <td>8650</td>\n",
              "      <td>8650</td>\n",
              "      <td>Electronics and Communication Engineering</td>\n",
              "      <td>0</td>\n",
              "    </tr>\n",
              "    <tr>\n",
              "      <th>8</th>\n",
              "      <td>shifak N</td>\n",
              "      <td>58</td>\n",
              "      <td>0</td>\n",
              "      <td>0</td>\n",
              "      <td>0</td>\n",
              "      <td>5180</td>\n",
              "      <td>8320</td>\n",
              "      <td>Electronics and Electrical Engineering</td>\n",
              "      <td>3140</td>\n",
              "    </tr>\n",
              "    <tr>\n",
              "      <th>9</th>\n",
              "      <td>Balaji</td>\n",
              "      <td>-1</td>\n",
              "      <td>100</td>\n",
              "      <td>20</td>\n",
              "      <td>0</td>\n",
              "      <td>6170</td>\n",
              "      <td>8160</td>\n",
              "      <td>Electronics and Electrical Engineering</td>\n",
              "      <td>1990</td>\n",
              "    </tr>\n",
              "    <tr>\n",
              "      <th>10</th>\n",
              "      <td>Rushitha</td>\n",
              "      <td>-1</td>\n",
              "      <td>15</td>\n",
              "      <td>62</td>\n",
              "      <td>9</td>\n",
              "      <td>7470</td>\n",
              "      <td>8090</td>\n",
              "      <td>Computer Science and Engineering</td>\n",
              "      <td>620</td>\n",
              "    </tr>\n",
              "    <tr>\n",
              "      <th>11</th>\n",
              "      <td>Balaraman Muthupandi</td>\n",
              "      <td>-1</td>\n",
              "      <td>9</td>\n",
              "      <td>0</td>\n",
              "      <td>0</td>\n",
              "      <td>7670</td>\n",
              "      <td>8050</td>\n",
              "      <td>Computer Science and Engineering</td>\n",
              "      <td>380</td>\n",
              "    </tr>\n",
              "    <tr>\n",
              "      <th>12</th>\n",
              "      <td>JPradhap</td>\n",
              "      <td>100</td>\n",
              "      <td>0</td>\n",
              "      <td>0</td>\n",
              "      <td>0</td>\n",
              "      <td>7340</td>\n",
              "      <td>8030</td>\n",
              "      <td>Electronics and Electrical Engineering</td>\n",
              "      <td>690</td>\n",
              "    </tr>\n",
              "    <tr>\n",
              "      <th>13</th>\n",
              "      <td>SRIRAMKUMAR B</td>\n",
              "      <td>-1</td>\n",
              "      <td>0</td>\n",
              "      <td>0</td>\n",
              "      <td>0</td>\n",
              "      <td>6400</td>\n",
              "      <td>7940</td>\n",
              "      <td>Computer Science and Engineering</td>\n",
              "      <td>1540</td>\n",
              "    </tr>\n",
              "    <tr>\n",
              "      <th>14</th>\n",
              "      <td>Praneetha</td>\n",
              "      <td>-1</td>\n",
              "      <td>23</td>\n",
              "      <td>100</td>\n",
              "      <td>-1</td>\n",
              "      <td>7170</td>\n",
              "      <td>7730</td>\n",
              "      <td>Electronics and Communication Engineering</td>\n",
              "      <td>560</td>\n",
              "    </tr>\n",
              "    <tr>\n",
              "      <th>15</th>\n",
              "      <td>Rahul Raj K</td>\n",
              "      <td>-1</td>\n",
              "      <td>0</td>\n",
              "      <td>0</td>\n",
              "      <td>0</td>\n",
              "      <td>6280</td>\n",
              "      <td>7640</td>\n",
              "      <td>Computer Science and Engineering</td>\n",
              "      <td>1360</td>\n",
              "    </tr>\n",
              "    <tr>\n",
              "      <th>16</th>\n",
              "      <td>Guhan S</td>\n",
              "      <td>-1</td>\n",
              "      <td>72</td>\n",
              "      <td>35</td>\n",
              "      <td>39</td>\n",
              "      <td>7310</td>\n",
              "      <td>7630</td>\n",
              "      <td>Electronics and Communication Engineering</td>\n",
              "      <td>320</td>\n",
              "    </tr>\n",
              "    <tr>\n",
              "      <th>17</th>\n",
              "      <td>Suryarajan S</td>\n",
              "      <td>-1</td>\n",
              "      <td>63</td>\n",
              "      <td>31</td>\n",
              "      <td>0</td>\n",
              "      <td>6710</td>\n",
              "      <td>7550</td>\n",
              "      <td>Computer Science and Engineering</td>\n",
              "      <td>840</td>\n",
              "    </tr>\n",
              "    <tr>\n",
              "      <th>18</th>\n",
              "      <td>Narasimhan Y L</td>\n",
              "      <td>-1</td>\n",
              "      <td>-1</td>\n",
              "      <td>0</td>\n",
              "      <td>0</td>\n",
              "      <td>4800</td>\n",
              "      <td>6800</td>\n",
              "      <td>Computer Science and Engineering</td>\n",
              "      <td>2000</td>\n",
              "    </tr>\n",
              "    <tr>\n",
              "      <th>19</th>\n",
              "      <td>Leelakrishna</td>\n",
              "      <td>-1</td>\n",
              "      <td>6</td>\n",
              "      <td>4</td>\n",
              "      <td>0</td>\n",
              "      <td>5300</td>\n",
              "      <td>6640</td>\n",
              "      <td>Computer Science and Engineering</td>\n",
              "      <td>1340</td>\n",
              "    </tr>\n",
              "    <tr>\n",
              "      <th>20</th>\n",
              "      <td>PremsagarReddy</td>\n",
              "      <td>-1</td>\n",
              "      <td>20</td>\n",
              "      <td>0</td>\n",
              "      <td>0</td>\n",
              "      <td>5290</td>\n",
              "      <td>6290</td>\n",
              "      <td>Computer Science and Engineering</td>\n",
              "      <td>1000</td>\n",
              "    </tr>\n",
              "    <tr>\n",
              "      <th>21</th>\n",
              "      <td>pradeeban</td>\n",
              "      <td>16</td>\n",
              "      <td>20</td>\n",
              "      <td>24</td>\n",
              "      <td>0</td>\n",
              "      <td>6060</td>\n",
              "      <td>6090</td>\n",
              "      <td>Computer Science and Engineering</td>\n",
              "      <td>30</td>\n",
              "    </tr>\n",
              "    <tr>\n",
              "      <th>22</th>\n",
              "      <td>santhoshini</td>\n",
              "      <td>-1</td>\n",
              "      <td>43</td>\n",
              "      <td>0</td>\n",
              "      <td>0</td>\n",
              "      <td>3910</td>\n",
              "      <td>5740</td>\n",
              "      <td>Computer Science and Engineering</td>\n",
              "      <td>1830</td>\n",
              "    </tr>\n",
              "    <tr>\n",
              "      <th>23</th>\n",
              "      <td>MUKESH S M</td>\n",
              "      <td>-1</td>\n",
              "      <td>46</td>\n",
              "      <td>0</td>\n",
              "      <td>0</td>\n",
              "      <td>5200</td>\n",
              "      <td>5200</td>\n",
              "      <td>Computer Science and Engineering</td>\n",
              "      <td>0</td>\n",
              "    </tr>\n",
              "    <tr>\n",
              "      <th>24</th>\n",
              "      <td>P.GOVARDHANAN</td>\n",
              "      <td>-1</td>\n",
              "      <td>40</td>\n",
              "      <td>0</td>\n",
              "      <td>-1</td>\n",
              "      <td>5050</td>\n",
              "      <td>5050</td>\n",
              "      <td>Electronics and Communication Engineering</td>\n",
              "      <td>0</td>\n",
              "    </tr>\n",
              "    <tr>\n",
              "      <th>25</th>\n",
              "      <td>SHAIK DANISH</td>\n",
              "      <td>-1</td>\n",
              "      <td>43</td>\n",
              "      <td>0</td>\n",
              "      <td>0</td>\n",
              "      <td>4050</td>\n",
              "      <td>4820</td>\n",
              "      <td>Computer Science and Engineering</td>\n",
              "      <td>770</td>\n",
              "    </tr>\n",
              "    <tr>\n",
              "      <th>26</th>\n",
              "      <td>sridhar.s</td>\n",
              "      <td>-1</td>\n",
              "      <td>52</td>\n",
              "      <td>0</td>\n",
              "      <td>0</td>\n",
              "      <td>3860</td>\n",
              "      <td>4440</td>\n",
              "      <td>Computer Science and Engineering</td>\n",
              "      <td>580</td>\n",
              "    </tr>\n",
              "    <tr>\n",
              "      <th>27</th>\n",
              "      <td>Vimalesh Fernando</td>\n",
              "      <td>-1</td>\n",
              "      <td>0</td>\n",
              "      <td>0</td>\n",
              "      <td>0</td>\n",
              "      <td>4170</td>\n",
              "      <td>4170</td>\n",
              "      <td>Computer Science and Engineering</td>\n",
              "      <td>0</td>\n",
              "    </tr>\n",
              "    <tr>\n",
              "      <th>28</th>\n",
              "      <td>M.Karthikeyan</td>\n",
              "      <td>-1</td>\n",
              "      <td>0</td>\n",
              "      <td>4</td>\n",
              "      <td>6</td>\n",
              "      <td>4020</td>\n",
              "      <td>4020</td>\n",
              "      <td>Computer Science and Engineering</td>\n",
              "      <td>0</td>\n",
              "    </tr>\n",
              "    <tr>\n",
              "      <th>29</th>\n",
              "      <td>Abishak s</td>\n",
              "      <td>-1</td>\n",
              "      <td>55</td>\n",
              "      <td>35</td>\n",
              "      <td>6</td>\n",
              "      <td>3220</td>\n",
              "      <td>3220</td>\n",
              "      <td>Electronics and Communication Engineering</td>\n",
              "      <td>0</td>\n",
              "    </tr>\n",
              "    <tr>\n",
              "      <th>30</th>\n",
              "      <td>praveen raj j</td>\n",
              "      <td>24</td>\n",
              "      <td>-1</td>\n",
              "      <td>0</td>\n",
              "      <td>0</td>\n",
              "      <td>2380</td>\n",
              "      <td>2380</td>\n",
              "      <td>Computer Science and Engineering</td>\n",
              "      <td>0</td>\n",
              "    </tr>\n",
              "    <tr>\n",
              "      <th>31</th>\n",
              "      <td>AMARNATH D</td>\n",
              "      <td>-1</td>\n",
              "      <td>52</td>\n",
              "      <td>12</td>\n",
              "      <td>-1</td>\n",
              "      <td>1890</td>\n",
              "      <td>1890</td>\n",
              "      <td>Electronics and Communication Engineering</td>\n",
              "      <td>0</td>\n",
              "    </tr>\n",
              "    <tr>\n",
              "      <th>32</th>\n",
              "      <td>bala</td>\n",
              "      <td>32</td>\n",
              "      <td>49</td>\n",
              "      <td>0</td>\n",
              "      <td>-1</td>\n",
              "      <td>1720</td>\n",
              "      <td>1720</td>\n",
              "      <td>Electronics and Communication Engineering</td>\n",
              "      <td>0</td>\n",
              "    </tr>\n",
              "    <tr>\n",
              "      <th>33</th>\n",
              "      <td>XY Z</td>\n",
              "      <td>-1</td>\n",
              "      <td>20</td>\n",
              "      <td>-1</td>\n",
              "      <td>-1</td>\n",
              "      <td>0</td>\n",
              "      <td>0</td>\n",
              "      <td>Computer Science and Engineering</td>\n",
              "      <td>0</td>\n",
              "    </tr>\n",
              "    <tr>\n",
              "      <th>34</th>\n",
              "      <td>Hariharan</td>\n",
              "      <td>-1</td>\n",
              "      <td>-1</td>\n",
              "      <td>-1</td>\n",
              "      <td>0</td>\n",
              "      <td>0</td>\n",
              "      <td>0</td>\n",
              "      <td>Computer Science and Engineering</td>\n",
              "      <td>0</td>\n",
              "    </tr>\n",
              "  </tbody>\n",
              "</table>\n",
              "</div>\n",
              "      <button class=\"colab-df-convert\" onclick=\"convertToInteractive('df-f6d73882-22ad-4f4a-b81c-1d0484f0f101')\"\n",
              "              title=\"Convert this dataframe to an interactive table.\"\n",
              "              style=\"display:none;\">\n",
              "        \n",
              "  <svg xmlns=\"http://www.w3.org/2000/svg\" height=\"24px\"viewBox=\"0 0 24 24\"\n",
              "       width=\"24px\">\n",
              "    <path d=\"M0 0h24v24H0V0z\" fill=\"none\"/>\n",
              "    <path d=\"M18.56 5.44l.94 2.06.94-2.06 2.06-.94-2.06-.94-.94-2.06-.94 2.06-2.06.94zm-11 1L8.5 8.5l.94-2.06 2.06-.94-2.06-.94L8.5 2.5l-.94 2.06-2.06.94zm10 10l.94 2.06.94-2.06 2.06-.94-2.06-.94-.94-2.06-.94 2.06-2.06.94z\"/><path d=\"M17.41 7.96l-1.37-1.37c-.4-.4-.92-.59-1.43-.59-.52 0-1.04.2-1.43.59L10.3 9.45l-7.72 7.72c-.78.78-.78 2.05 0 2.83L4 21.41c.39.39.9.59 1.41.59.51 0 1.02-.2 1.41-.59l7.78-7.78 2.81-2.81c.8-.78.8-2.07 0-2.86zM5.41 20L4 18.59l7.72-7.72 1.47 1.35L5.41 20z\"/>\n",
              "  </svg>\n",
              "      </button>\n",
              "      \n",
              "  <style>\n",
              "    .colab-df-container {\n",
              "      display:flex;\n",
              "      flex-wrap:wrap;\n",
              "      gap: 12px;\n",
              "    }\n",
              "\n",
              "    .colab-df-convert {\n",
              "      background-color: #E8F0FE;\n",
              "      border: none;\n",
              "      border-radius: 50%;\n",
              "      cursor: pointer;\n",
              "      display: none;\n",
              "      fill: #1967D2;\n",
              "      height: 32px;\n",
              "      padding: 0 0 0 0;\n",
              "      width: 32px;\n",
              "    }\n",
              "\n",
              "    .colab-df-convert:hover {\n",
              "      background-color: #E2EBFA;\n",
              "      box-shadow: 0px 1px 2px rgba(60, 64, 67, 0.3), 0px 1px 3px 1px rgba(60, 64, 67, 0.15);\n",
              "      fill: #174EA6;\n",
              "    }\n",
              "\n",
              "    [theme=dark] .colab-df-convert {\n",
              "      background-color: #3B4455;\n",
              "      fill: #D2E3FC;\n",
              "    }\n",
              "\n",
              "    [theme=dark] .colab-df-convert:hover {\n",
              "      background-color: #434B5C;\n",
              "      box-shadow: 0px 1px 3px 1px rgba(0, 0, 0, 0.15);\n",
              "      filter: drop-shadow(0px 1px 2px rgba(0, 0, 0, 0.3));\n",
              "      fill: #FFFFFF;\n",
              "    }\n",
              "  </style>\n",
              "\n",
              "      <script>\n",
              "        const buttonEl =\n",
              "          document.querySelector('#df-f6d73882-22ad-4f4a-b81c-1d0484f0f101 button.colab-df-convert');\n",
              "        buttonEl.style.display =\n",
              "          google.colab.kernel.accessAllowed ? 'block' : 'none';\n",
              "\n",
              "        async function convertToInteractive(key) {\n",
              "          const element = document.querySelector('#df-f6d73882-22ad-4f4a-b81c-1d0484f0f101');\n",
              "          const dataTable =\n",
              "            await google.colab.kernel.invokeFunction('convertToInteractive',\n",
              "                                                     [key], {});\n",
              "          if (!dataTable) return;\n",
              "\n",
              "          const docLinkHtml = 'Like what you see? Visit the ' +\n",
              "            '<a target=\"_blank\" href=https://colab.research.google.com/notebooks/data_table.ipynb>data table notebook</a>'\n",
              "            + ' to learn more about interactive tables.';\n",
              "          element.innerHTML = '';\n",
              "          dataTable['output_type'] = 'display_data';\n",
              "          await google.colab.output.renderOutput(dataTable, element);\n",
              "          const docLink = document.createElement('div');\n",
              "          docLink.innerHTML = docLinkHtml;\n",
              "          element.appendChild(docLink);\n",
              "        }\n",
              "      </script>\n",
              "    </div>\n",
              "  </div>\n",
              "  "
            ]
          },
          "metadata": {},
          "execution_count": 8
        }
      ]
    },
    {
      "cell_type": "code",
      "source": [
        "df2.shape"
      ],
      "metadata": {
        "id": "zG2NKbmB1eAR",
        "outputId": "44952fb8-0c15-46b0-d38a-05331dfb9cce",
        "colab": {
          "base_uri": "https://localhost:8080/"
        }
      },
      "execution_count": null,
      "outputs": [
        {
          "output_type": "execute_result",
          "data": {
            "text/plain": [
              "(35, 9)"
            ]
          },
          "metadata": {},
          "execution_count": 14
        }
      ]
    },
    {
      "cell_type": "code",
      "source": [
        "df = pd.concat([df1,df2])\n",
        "df"
      ],
      "metadata": {
        "id": "umyPsvRH0Y8v",
        "outputId": "e7574b32-29e3-4c37-e867-e7a60c8b52a0",
        "colab": {
          "base_uri": "https://localhost:8080/",
          "height": 520
        }
      },
      "execution_count": null,
      "outputs": [
        {
          "output_type": "execute_result",
          "data": {
            "text/plain": [
              "             Name  python  mysql  Previous Geekions  CodeKata Score  \\\n",
              "0       A.Dharani    82.0   20.0              24500           24500   \n",
              "1     V.JEEVITHA     82.0   20.0              21740           21740   \n",
              "2     HEMAVATHI.R   100.0  100.0              19680           19680   \n",
              "3     Mugunthan S   100.0   47.0              10610           10610   \n",
              "4     Sathammai.S   100.0    8.0               8980            8980   \n",
              "..            ...     ...    ...                ...             ...   \n",
              "30  praveen raj j    24.0    0.0               2380            2380   \n",
              "31     AMARNATH D    -1.0   12.0               1890            1890   \n",
              "32           bala    32.0    0.0               1720            1720   \n",
              "33           XY Z    -1.0   -1.0                  0               0   \n",
              "34      Hariharan    -1.0   -1.0                  0               0   \n",
              "\n",
              "                                   Department  Rising  python_en  \\\n",
              "0            Computer Science and Engineering       0        NaN   \n",
              "1            Computer Science and Engineering       0        NaN   \n",
              "2            Computer Science and Engineering       0        NaN   \n",
              "3            Computer Science and Engineering       0        NaN   \n",
              "4            Computer Science and Engineering       0        NaN   \n",
              "..                                        ...     ...        ...   \n",
              "30           Computer Science and Engineering       0       -1.0   \n",
              "31  Electronics and Communication Engineering       0       52.0   \n",
              "32  Electronics and Communication Engineering       0       49.0   \n",
              "33           Computer Science and Engineering       0       20.0   \n",
              "34           Computer Science and Engineering       0       -1.0   \n",
              "\n",
              "    computational_thinking  \n",
              "0                      NaN  \n",
              "1                      NaN  \n",
              "2                      NaN  \n",
              "3                      NaN  \n",
              "4                      NaN  \n",
              "..                     ...  \n",
              "30                     0.0  \n",
              "31                    -1.0  \n",
              "32                    -1.0  \n",
              "33                    -1.0  \n",
              "34                     0.0  \n",
              "\n",
              "[119 rows x 9 columns]"
            ],
            "text/html": [
              "\n",
              "  <div id=\"df-acbfcb2f-74af-4bfc-88b0-df658767c3ab\">\n",
              "    <div class=\"colab-df-container\">\n",
              "      <div>\n",
              "<style scoped>\n",
              "    .dataframe tbody tr th:only-of-type {\n",
              "        vertical-align: middle;\n",
              "    }\n",
              "\n",
              "    .dataframe tbody tr th {\n",
              "        vertical-align: top;\n",
              "    }\n",
              "\n",
              "    .dataframe thead th {\n",
              "        text-align: right;\n",
              "    }\n",
              "</style>\n",
              "<table border=\"1\" class=\"dataframe\">\n",
              "  <thead>\n",
              "    <tr style=\"text-align: right;\">\n",
              "      <th></th>\n",
              "      <th>Name</th>\n",
              "      <th>python</th>\n",
              "      <th>mysql</th>\n",
              "      <th>Previous Geekions</th>\n",
              "      <th>CodeKata Score</th>\n",
              "      <th>Department</th>\n",
              "      <th>Rising</th>\n",
              "      <th>python_en</th>\n",
              "      <th>computational_thinking</th>\n",
              "    </tr>\n",
              "  </thead>\n",
              "  <tbody>\n",
              "    <tr>\n",
              "      <th>0</th>\n",
              "      <td>A.Dharani</td>\n",
              "      <td>82.0</td>\n",
              "      <td>20.0</td>\n",
              "      <td>24500</td>\n",
              "      <td>24500</td>\n",
              "      <td>Computer Science and Engineering</td>\n",
              "      <td>0</td>\n",
              "      <td>NaN</td>\n",
              "      <td>NaN</td>\n",
              "    </tr>\n",
              "    <tr>\n",
              "      <th>1</th>\n",
              "      <td>V.JEEVITHA</td>\n",
              "      <td>82.0</td>\n",
              "      <td>20.0</td>\n",
              "      <td>21740</td>\n",
              "      <td>21740</td>\n",
              "      <td>Computer Science and Engineering</td>\n",
              "      <td>0</td>\n",
              "      <td>NaN</td>\n",
              "      <td>NaN</td>\n",
              "    </tr>\n",
              "    <tr>\n",
              "      <th>2</th>\n",
              "      <td>HEMAVATHI.R</td>\n",
              "      <td>100.0</td>\n",
              "      <td>100.0</td>\n",
              "      <td>19680</td>\n",
              "      <td>19680</td>\n",
              "      <td>Computer Science and Engineering</td>\n",
              "      <td>0</td>\n",
              "      <td>NaN</td>\n",
              "      <td>NaN</td>\n",
              "    </tr>\n",
              "    <tr>\n",
              "      <th>3</th>\n",
              "      <td>Mugunthan S</td>\n",
              "      <td>100.0</td>\n",
              "      <td>47.0</td>\n",
              "      <td>10610</td>\n",
              "      <td>10610</td>\n",
              "      <td>Computer Science and Engineering</td>\n",
              "      <td>0</td>\n",
              "      <td>NaN</td>\n",
              "      <td>NaN</td>\n",
              "    </tr>\n",
              "    <tr>\n",
              "      <th>4</th>\n",
              "      <td>Sathammai.S</td>\n",
              "      <td>100.0</td>\n",
              "      <td>8.0</td>\n",
              "      <td>8980</td>\n",
              "      <td>8980</td>\n",
              "      <td>Computer Science and Engineering</td>\n",
              "      <td>0</td>\n",
              "      <td>NaN</td>\n",
              "      <td>NaN</td>\n",
              "    </tr>\n",
              "    <tr>\n",
              "      <th>...</th>\n",
              "      <td>...</td>\n",
              "      <td>...</td>\n",
              "      <td>...</td>\n",
              "      <td>...</td>\n",
              "      <td>...</td>\n",
              "      <td>...</td>\n",
              "      <td>...</td>\n",
              "      <td>...</td>\n",
              "      <td>...</td>\n",
              "    </tr>\n",
              "    <tr>\n",
              "      <th>30</th>\n",
              "      <td>praveen raj j</td>\n",
              "      <td>24.0</td>\n",
              "      <td>0.0</td>\n",
              "      <td>2380</td>\n",
              "      <td>2380</td>\n",
              "      <td>Computer Science and Engineering</td>\n",
              "      <td>0</td>\n",
              "      <td>-1.0</td>\n",
              "      <td>0.0</td>\n",
              "    </tr>\n",
              "    <tr>\n",
              "      <th>31</th>\n",
              "      <td>AMARNATH D</td>\n",
              "      <td>-1.0</td>\n",
              "      <td>12.0</td>\n",
              "      <td>1890</td>\n",
              "      <td>1890</td>\n",
              "      <td>Electronics and Communication Engineering</td>\n",
              "      <td>0</td>\n",
              "      <td>52.0</td>\n",
              "      <td>-1.0</td>\n",
              "    </tr>\n",
              "    <tr>\n",
              "      <th>32</th>\n",
              "      <td>bala</td>\n",
              "      <td>32.0</td>\n",
              "      <td>0.0</td>\n",
              "      <td>1720</td>\n",
              "      <td>1720</td>\n",
              "      <td>Electronics and Communication Engineering</td>\n",
              "      <td>0</td>\n",
              "      <td>49.0</td>\n",
              "      <td>-1.0</td>\n",
              "    </tr>\n",
              "    <tr>\n",
              "      <th>33</th>\n",
              "      <td>XY Z</td>\n",
              "      <td>-1.0</td>\n",
              "      <td>-1.0</td>\n",
              "      <td>0</td>\n",
              "      <td>0</td>\n",
              "      <td>Computer Science and Engineering</td>\n",
              "      <td>0</td>\n",
              "      <td>20.0</td>\n",
              "      <td>-1.0</td>\n",
              "    </tr>\n",
              "    <tr>\n",
              "      <th>34</th>\n",
              "      <td>Hariharan</td>\n",
              "      <td>-1.0</td>\n",
              "      <td>-1.0</td>\n",
              "      <td>0</td>\n",
              "      <td>0</td>\n",
              "      <td>Computer Science and Engineering</td>\n",
              "      <td>0</td>\n",
              "      <td>-1.0</td>\n",
              "      <td>0.0</td>\n",
              "    </tr>\n",
              "  </tbody>\n",
              "</table>\n",
              "<p>119 rows × 9 columns</p>\n",
              "</div>\n",
              "      <button class=\"colab-df-convert\" onclick=\"convertToInteractive('df-acbfcb2f-74af-4bfc-88b0-df658767c3ab')\"\n",
              "              title=\"Convert this dataframe to an interactive table.\"\n",
              "              style=\"display:none;\">\n",
              "        \n",
              "  <svg xmlns=\"http://www.w3.org/2000/svg\" height=\"24px\"viewBox=\"0 0 24 24\"\n",
              "       width=\"24px\">\n",
              "    <path d=\"M0 0h24v24H0V0z\" fill=\"none\"/>\n",
              "    <path d=\"M18.56 5.44l.94 2.06.94-2.06 2.06-.94-2.06-.94-.94-2.06-.94 2.06-2.06.94zm-11 1L8.5 8.5l.94-2.06 2.06-.94-2.06-.94L8.5 2.5l-.94 2.06-2.06.94zm10 10l.94 2.06.94-2.06 2.06-.94-2.06-.94-.94-2.06-.94 2.06-2.06.94z\"/><path d=\"M17.41 7.96l-1.37-1.37c-.4-.4-.92-.59-1.43-.59-.52 0-1.04.2-1.43.59L10.3 9.45l-7.72 7.72c-.78.78-.78 2.05 0 2.83L4 21.41c.39.39.9.59 1.41.59.51 0 1.02-.2 1.41-.59l7.78-7.78 2.81-2.81c.8-.78.8-2.07 0-2.86zM5.41 20L4 18.59l7.72-7.72 1.47 1.35L5.41 20z\"/>\n",
              "  </svg>\n",
              "      </button>\n",
              "      \n",
              "  <style>\n",
              "    .colab-df-container {\n",
              "      display:flex;\n",
              "      flex-wrap:wrap;\n",
              "      gap: 12px;\n",
              "    }\n",
              "\n",
              "    .colab-df-convert {\n",
              "      background-color: #E8F0FE;\n",
              "      border: none;\n",
              "      border-radius: 50%;\n",
              "      cursor: pointer;\n",
              "      display: none;\n",
              "      fill: #1967D2;\n",
              "      height: 32px;\n",
              "      padding: 0 0 0 0;\n",
              "      width: 32px;\n",
              "    }\n",
              "\n",
              "    .colab-df-convert:hover {\n",
              "      background-color: #E2EBFA;\n",
              "      box-shadow: 0px 1px 2px rgba(60, 64, 67, 0.3), 0px 1px 3px 1px rgba(60, 64, 67, 0.15);\n",
              "      fill: #174EA6;\n",
              "    }\n",
              "\n",
              "    [theme=dark] .colab-df-convert {\n",
              "      background-color: #3B4455;\n",
              "      fill: #D2E3FC;\n",
              "    }\n",
              "\n",
              "    [theme=dark] .colab-df-convert:hover {\n",
              "      background-color: #434B5C;\n",
              "      box-shadow: 0px 1px 3px 1px rgba(0, 0, 0, 0.15);\n",
              "      filter: drop-shadow(0px 1px 2px rgba(0, 0, 0, 0.3));\n",
              "      fill: #FFFFFF;\n",
              "    }\n",
              "  </style>\n",
              "\n",
              "      <script>\n",
              "        const buttonEl =\n",
              "          document.querySelector('#df-acbfcb2f-74af-4bfc-88b0-df658767c3ab button.colab-df-convert');\n",
              "        buttonEl.style.display =\n",
              "          google.colab.kernel.accessAllowed ? 'block' : 'none';\n",
              "\n",
              "        async function convertToInteractive(key) {\n",
              "          const element = document.querySelector('#df-acbfcb2f-74af-4bfc-88b0-df658767c3ab');\n",
              "          const dataTable =\n",
              "            await google.colab.kernel.invokeFunction('convertToInteractive',\n",
              "                                                     [key], {});\n",
              "          if (!dataTable) return;\n",
              "\n",
              "          const docLinkHtml = 'Like what you see? Visit the ' +\n",
              "            '<a target=\"_blank\" href=https://colab.research.google.com/notebooks/data_table.ipynb>data table notebook</a>'\n",
              "            + ' to learn more about interactive tables.';\n",
              "          element.innerHTML = '';\n",
              "          dataTable['output_type'] = 'display_data';\n",
              "          await google.colab.output.renderOutput(dataTable, element);\n",
              "          const docLink = document.createElement('div');\n",
              "          docLink.innerHTML = docLinkHtml;\n",
              "          element.appendChild(docLink);\n",
              "        }\n",
              "      </script>\n",
              "    </div>\n",
              "  </div>\n",
              "  "
            ]
          },
          "metadata": {},
          "execution_count": 22
        }
      ]
    },
    {
      "cell_type": "code",
      "source": [
        "merge_data.shape"
      ],
      "metadata": {
        "id": "YnF4lVwb1X4B",
        "outputId": "e4f46711-fb43-470e-f221-b0cf50241556",
        "colab": {
          "base_uri": "https://localhost:8080/"
        }
      },
      "execution_count": null,
      "outputs": [
        {
          "output_type": "execute_result",
          "data": {
            "text/plain": [
              "(119, 9)"
            ]
          },
          "metadata": {},
          "execution_count": 13
        }
      ]
    },
    {
      "cell_type": "markdown",
      "metadata": {
        "id": "WslwKJnvxzGV"
      },
      "source": [
        "###### Take each csv file , split that csv file into multiple categories (example csv files are added in the repo) \n"
      ]
    },
    {
      "cell_type": "markdown",
      "metadata": {
        "id": "CydTKeqLxzGX"
      },
      "source": [
        "###### consider if the codekata score exceeds 15000 points(present week) then make a csv on those observations as Exceeded expectations.csv\n"
      ]
    },
    {
      "cell_type": "markdown",
      "metadata": {
        "id": "Htfp_N04xzGZ"
      },
      "source": [
        "###### if  10000<codekata score<15000   (Reached_expectations.csv)\n",
        "\n"
      ]
    },
    {
      "cell_type": "markdown",
      "metadata": {
        "id": "90wvJgn8xzGa"
      },
      "source": [
        "###### if  7000<codekata score<10000   (Needs_Improvement.csv)\n"
      ]
    },
    {
      "cell_type": "markdown",
      "metadata": {
        "id": "A-Ct7M9zxzGb"
      },
      "source": [
        "###### if  codekate score < 7000        (Unsatisfactory.csv)"
      ]
    },
    {
      "cell_type": "code",
      "execution_count": null,
      "metadata": {
        "id": "Ar3LxYz9xzGc",
        "outputId": "cc7285da-2346-486d-948f-03857c931e81",
        "colab": {
          "base_uri": "https://localhost:8080/"
        }
      },
      "outputs": [
        {
          "output_type": "stream",
          "name": "stdout",
          "text": [
            "            Name  python  mysql  Previous Geekions  CodeKata Score  \\\n",
            "0      A.Dharani    82.0   20.0              24500           24500   \n",
            "1    V.JEEVITHA     82.0   20.0              21740           21740   \n",
            "2    HEMAVATHI.R   100.0  100.0              19680           19680   \n",
            "3  ASHOK KUMAR K   100.0   31.0              19400           19400   \n",
            "\n",
            "                               Department  Rising  python_en  \\\n",
            "0        Computer Science and Engineering       0        NaN   \n",
            "1        Computer Science and Engineering       0        NaN   \n",
            "2        Computer Science and Engineering       0        NaN   \n",
            "3  Electronics and Electrical Engineering       0        0.0   \n",
            "\n",
            "   computational_thinking  \n",
            "0                     NaN  \n",
            "1                     NaN  \n",
            "2                     NaN  \n",
            "3                     9.0  \n"
          ]
        }
      ],
      "source": [
        "Exceeded_expectations=df[df['CodeKata Score']>15000]\n",
        "Exceeded_expectations.to_csv('Exceeded_expectations.csv', index=False)\n",
        "print(pd.read_csv(\"Exceeded_expectations.csv\"))"
      ]
    },
    {
      "cell_type": "code",
      "execution_count": null,
      "metadata": {
        "id": "uwMh_FASxzGd",
        "outputId": "b5197b64-737d-4e10-db3c-cebe1f26a88e",
        "colab": {
          "base_uri": "https://localhost:8080/"
        }
      },
      "outputs": [
        {
          "output_type": "stream",
          "name": "stdout",
          "text": [
            "                Name  python  mysql  Previous Geekions  CodeKata Score  \\\n",
            "0        Mugunthan S   100.0   47.0              10610           10610   \n",
            "1            Chandru     0.0    0.0              14150           14490   \n",
            "2  Ganesh Ramkumar R    -1.0   24.0               8790           10790   \n",
            "3    Bodipudi Harini    -1.0   35.0              10040           10040   \n",
            "\n",
            "                                  Department  Rising  python_en  \\\n",
            "0           Computer Science and Engineering       0        NaN   \n",
            "1           Computer Science and Engineering     340       20.0   \n",
            "2           Computer Science and Engineering    2000       55.0   \n",
            "3  Electronics and Communication Engineering       0        0.0   \n",
            "\n",
            "   computational_thinking  \n",
            "0                     NaN  \n",
            "1                     0.0  \n",
            "2                     6.0  \n",
            "3                    -1.0  \n"
          ]
        }
      ],
      "source": [
        "Reached_expectations=df[(df['CodeKata Score']>10000) & (df['CodeKata Score']<15000)]\n",
        "Reached_expectations.to_csv('Reached_expectations.csv', index=False)\n",
        "print(pd.read_csv(\"Reached_expectations.csv\"))\n"
      ]
    },
    {
      "cell_type": "code",
      "source": [
        "Needs_Improvement=df[(df['CodeKata Score']>7000) & (df['CodeKata Score']<10000)]\n",
        "Needs_Improvement.to_csv('Needs_Improvement.csv', index=False)\n",
        "print(pd.read_csv(\"Needs_Improvement.csv\"))\n",
        "\n"
      ],
      "metadata": {
        "id": "DXuLEIocPL0P",
        "outputId": "12796b81-cca9-42bd-e6a0-0608d14daeda",
        "colab": {
          "base_uri": "https://localhost:8080/"
        }
      },
      "execution_count": null,
      "outputs": [
        {
          "output_type": "stream",
          "name": "stdout",
          "text": [
            "                      Name  python  mysql  Previous Geekions  CodeKata Score  \\\n",
            "0              Sathammai.S   100.0    8.0               8980            8980   \n",
            "1             NIVEESHWAR S   100.0    0.0               8200            8200   \n",
            "2            KALAIARASAN K    85.0   47.0               7750            7880   \n",
            "3     MOHAMED ZUBAIR AHMED    82.0    4.0               7020            7020   \n",
            "4                VIINU V P    -1.0   24.0               9150            9150   \n",
            "5               Poojitha Y     0.0   35.0               7210            8970   \n",
            "6   Gowtham Chandrasekaran    -1.0    0.0               7250            8950   \n",
            "7                Gowtham R    -1.0    4.0               8650            8650   \n",
            "8                 shifak N    58.0    0.0               5180            8320   \n",
            "9                  Balaji     -1.0   20.0               6170            8160   \n",
            "10                Rushitha    -1.0   62.0               7470            8090   \n",
            "11    Balaraman Muthupandi    -1.0    0.0               7670            8050   \n",
            "12                JPradhap   100.0    0.0               7340            8030   \n",
            "13           SRIRAMKUMAR B    -1.0    0.0               6400            7940   \n",
            "14               Praneetha    -1.0  100.0               7170            7730   \n",
            "15             Rahul Raj K    -1.0    0.0               6280            7640   \n",
            "16                 Guhan S    -1.0   35.0               7310            7630   \n",
            "17            Suryarajan S    -1.0   31.0               6710            7550   \n",
            "\n",
            "                                   Department  Rising  python_en  \\\n",
            "0            Computer Science and Engineering       0        NaN   \n",
            "1            Computer Science and Engineering       0        NaN   \n",
            "2   Electronics and Communication Engineering     130        NaN   \n",
            "3            Computer Science and Engineering       0        NaN   \n",
            "4      Electronics and Electrical Engineering       0      100.0   \n",
            "5            Computer Science and Engineering    1760       78.0   \n",
            "6            Computer Science and Engineering    1700        0.0   \n",
            "7   Electronics and Communication Engineering       0       60.0   \n",
            "8      Electronics and Electrical Engineering    3140        0.0   \n",
            "9      Electronics and Electrical Engineering    1990      100.0   \n",
            "10           Computer Science and Engineering     620       15.0   \n",
            "11           Computer Science and Engineering     380        9.0   \n",
            "12     Electronics and Electrical Engineering     690        0.0   \n",
            "13           Computer Science and Engineering    1540        0.0   \n",
            "14  Electronics and Communication Engineering     560       23.0   \n",
            "15           Computer Science and Engineering    1360        0.0   \n",
            "16  Electronics and Communication Engineering     320       72.0   \n",
            "17           Computer Science and Engineering     840       63.0   \n",
            "\n",
            "    computational_thinking  \n",
            "0                      NaN  \n",
            "1                      NaN  \n",
            "2                      NaN  \n",
            "3                      NaN  \n",
            "4                     -1.0  \n",
            "5                      0.0  \n",
            "6                      3.0  \n",
            "7                      6.0  \n",
            "8                      0.0  \n",
            "9                      0.0  \n",
            "10                     9.0  \n",
            "11                     0.0  \n",
            "12                     0.0  \n",
            "13                     0.0  \n",
            "14                    -1.0  \n",
            "15                     0.0  \n",
            "16                    39.0  \n",
            "17                     0.0  \n"
          ]
        }
      ]
    },
    {
      "cell_type": "code",
      "source": [
        "###### if  codekate score < 7000        (Unsatisfactory.csv)\n",
        "Unsatisfactory=df[df['CodeKata Score']<7000]\n",
        "Unsatisfactory.to_csv('Unsatisfactory.csv', index=False)\n",
        "print(pd.read_csv(\"Unsatisfactory.csv\"))\n"
      ],
      "metadata": {
        "id": "9FMOTMP4QDui",
        "outputId": "43a90602-7b34-4e4e-f994-08b4202472ea",
        "colab": {
          "base_uri": "https://localhost:8080/"
        }
      },
      "execution_count": null,
      "outputs": [
        {
          "output_type": "stream",
          "name": "stdout",
          "text": [
            "               Name  python  mysql  Previous Geekions  CodeKata Score  \\\n",
            "0        J.SUGANTHI    27.0  50.00               5860            5860   \n",
            "1      thamizhpaana    29.0   0.00               5500            5500   \n",
            "2   Iyappan Samiraj    50.0  24.00               5400            5400   \n",
            "3      Ponniyamma.R   100.0  11.25               5380            5380   \n",
            "4         SABAPATHI   100.0   0.00               5280            5280   \n",
            "..              ...     ...    ...                ...             ...   \n",
            "88    praveen raj j    24.0   0.00               2380            2380   \n",
            "89       AMARNATH D    -1.0  12.00               1890            1890   \n",
            "90             bala    32.0   0.00               1720            1720   \n",
            "91             XY Z    -1.0  -1.00                  0               0   \n",
            "92        Hariharan    -1.0  -1.00                  0               0   \n",
            "\n",
            "                                   Department  Rising  python_en  \\\n",
            "0   Electronics and Communication Engineering       0        NaN   \n",
            "1            Computer Science and Engineering       0        NaN   \n",
            "2   Electronics and Communication Engineering       0        NaN   \n",
            "3            Computer Science and Engineering       0        NaN   \n",
            "4            Computer Science and Engineering       0        NaN   \n",
            "..                                        ...     ...        ...   \n",
            "88           Computer Science and Engineering       0       -1.0   \n",
            "89  Electronics and Communication Engineering       0       52.0   \n",
            "90  Electronics and Communication Engineering       0       49.0   \n",
            "91           Computer Science and Engineering       0       20.0   \n",
            "92           Computer Science and Engineering       0       -1.0   \n",
            "\n",
            "    computational_thinking  \n",
            "0                      NaN  \n",
            "1                      NaN  \n",
            "2                      NaN  \n",
            "3                      NaN  \n",
            "4                      NaN  \n",
            "..                     ...  \n",
            "88                     0.0  \n",
            "89                    -1.0  \n",
            "90                    -1.0  \n",
            "91                    -1.0  \n",
            "92                     0.0  \n",
            "\n",
            "[93 rows x 9 columns]\n"
          ]
        }
      ]
    },
    {
      "cell_type": "markdown",
      "metadata": {
        "id": "MNr5hOJMxzGe"
      },
      "source": [
        "###### Average of previous week geekions vs this week geekions (i.e Previous Geekions vs CodeKata Score)"
      ]
    },
    {
      "cell_type": "code",
      "source": [
        "mean_pre_geek=df[\"Previous Geekions\"].mean()\n",
        "mean_pre_geek"
      ],
      "metadata": {
        "id": "UK1GK82WSV9o",
        "outputId": "769cef8b-8eda-4d89-f2a5-d9fdd23129f3",
        "colab": {
          "base_uri": "https://localhost:8080/"
        }
      },
      "execution_count": null,
      "outputs": [
        {
          "output_type": "execute_result",
          "data": {
            "text/plain": [
              "3842.3529411764707"
            ]
          },
          "metadata": {},
          "execution_count": 48
        }
      ]
    },
    {
      "cell_type": "code",
      "source": [
        "mean_c_score=df['CodeKata Score'].mean()\n",
        "mean_c_score"
      ],
      "metadata": {
        "id": "zHTAO4OYSfzd",
        "outputId": "e2bcc945-2868-43cd-cdf9-9020e2c14450",
        "colab": {
          "base_uri": "https://localhost:8080/"
        }
      },
      "execution_count": null,
      "outputs": [
        {
          "output_type": "execute_result",
          "data": {
            "text/plain": [
              "4051.764705882353"
            ]
          },
          "metadata": {},
          "execution_count": 49
        }
      ]
    },
    {
      "cell_type": "code",
      "source": [
        "import matplotlib.pyplot as plt\n",
        "import seaborn as sns\n",
        "import numpy as np"
      ],
      "metadata": {
        "id": "kuv0CJ1hS25a"
      },
      "execution_count": null,
      "outputs": []
    },
    {
      "cell_type": "code",
      "source": [
        "x=('mean_pre_geek','mean_c_score')\n",
        "y=[3842.3529411764707,4051.764705882353]\n",
        "plt.figure()\n",
        "plt.bar(x,y)\n",
        "plt.show()"
      ],
      "metadata": {
        "id": "v8iys9S6Ti2U",
        "outputId": "f6470ef6-427c-40df-c471-e2523f417e63",
        "colab": {
          "base_uri": "https://localhost:8080/",
          "height": 266
        }
      },
      "execution_count": null,
      "outputs": [
        {
          "output_type": "display_data",
          "data": {
            "text/plain": [
              "<Figure size 432x288 with 1 Axes>"
            ],
            "image/png": "[encoded data removed]"
          },
          "metadata": {
            "needs_background": "light"
          }
        }
      ]
    },
    {
      "cell_type": "markdown",
      "metadata": {
        "id": "ovclXRKZxzGf"
      },
      "source": [
        "###### No of students participated "
      ]
    },
    {
      "cell_type": "code",
      "execution_count": null,
      "metadata": {
        "id": "OaVr6hgExzGf",
        "outputId": "b4eb2004-453c-4c5a-ffb6-2ec002b7ddfb",
        "colab": {
          "base_uri": "https://localhost:8080/"
        }
      },
      "outputs": [
        {
          "output_type": "stream",
          "name": "stdout",
          "text": [
            "no of students participated 119\n"
          ]
        }
      ],
      "source": [
        "participated=df.shape[0]\n",
        "print(\"no of students participated\",participated)"
      ]
    },
    {
      "cell_type": "markdown",
      "metadata": {
        "id": "Mnbz-VJcxzGf"
      },
      "source": [
        "###### #Average completion of python course or my_sql or python english or computational thinking"
      ]
    },
    {
      "cell_type": "code",
      "execution_count": null,
      "metadata": {
        "id": "-6y2itY2xzGf",
        "outputId": "b413b1b3-b7f5-47d0-8758-677875539239",
        "colab": {
          "base_uri": "https://localhost:8080/"
        }
      },
      "outputs": [
        {
          "output_type": "stream",
          "name": "stdout",
          "text": [
            "avg completion of python course 54.35294117647059\n"
          ]
        }
      ],
      "source": [
        "mean_python_course=df['python'].mean()\n",
        "mean_python_course\n",
        "print('avg completion of python course',mean_python_course)"
      ]
    },
    {
      "cell_type": "code",
      "source": [
        "mean_my_sql=df['mysql'].mean()\n",
        "mean_my_sql\n",
        "print('avg completion of mysql',mean_my_sql)"
      ],
      "metadata": {
        "id": "z9JiuM9EYCD1",
        "outputId": "3baf27dc-67f7-4792-b3a0-a6ea4b126b57",
        "colab": {
          "base_uri": "https://localhost:8080/"
        }
      },
      "execution_count": null,
      "outputs": [
        {
          "output_type": "stream",
          "name": "stdout",
          "text": [
            "avg completion of mysql 23.5\n"
          ]
        }
      ]
    },
    {
      "cell_type": "code",
      "source": [
        "mean_python_en=df['python_en'].mean()\n",
        "mean_python_en\n",
        "print('avg completion of python english',mean_python_en)"
      ],
      "metadata": {
        "id": "nW-3y91BYVyZ",
        "outputId": "1e62c301-1db5-4c38-807b-7d1c7656a576",
        "colab": {
          "base_uri": "https://localhost:8080/"
        }
      },
      "execution_count": null,
      "outputs": [
        {
          "output_type": "stream",
          "name": "stdout",
          "text": [
            "avg completion of python english 29.65714285714286\n"
          ]
        }
      ]
    },
    {
      "cell_type": "code",
      "source": [
        "mean_comp_think=df['computational_thinking'].mean()\n",
        "mean_comp_think\n",
        "print('avg completion of computioanl thinking',mean_comp_think)"
      ],
      "metadata": {
        "id": "9sj_JThdYgZG",
        "outputId": "f0ba4d6d-2e84-495b-8baa-c9c315ba82cf",
        "colab": {
          "base_uri": "https://localhost:8080/"
        }
      },
      "execution_count": null,
      "outputs": [
        {
          "output_type": "stream",
          "name": "stdout",
          "text": [
            "avg completion of computioanl thinking 2.2\n"
          ]
        }
      ]
    },
    {
      "cell_type": "markdown",
      "metadata": {
        "id": "VfiO8GxfxzGg"
      },
      "source": [
        "###### rising star of the week (top 3 candidate who performed well in that particular week)"
      ]
    },
    {
      "cell_type": "code",
      "execution_count": null,
      "metadata": {
        "id": "wX4DTcE3xzGg",
        "outputId": "681f9fa5-f2be-4811-83d7-5c6880a855ce",
        "colab": {
          "base_uri": "https://localhost:8080/",
          "height": 239
        }
      },
      "outputs": [
        {
          "output_type": "execute_result",
          "data": {
            "text/plain": [
              "                 Name  python  mysql  Previous Geekions  CodeKata Score  \\\n",
              "8            shifak N    58.0    0.0               5180            8320   \n",
              "18     Narasimhan Y L    -1.0    0.0               4800            6800   \n",
              "2   Ganesh Ramkumar R    -1.0   24.0               8790           10790   \n",
              "\n",
              "                                Department  Rising  python_en  \\\n",
              "8   Electronics and Electrical Engineering    3140        0.0   \n",
              "18        Computer Science and Engineering    2000       -1.0   \n",
              "2         Computer Science and Engineering    2000       55.0   \n",
              "\n",
              "    computational_thinking  \n",
              "8                      0.0  \n",
              "18                     0.0  \n",
              "2                      6.0  "
            ],
            "text/html": [
              "\n",
              "  <div id=\"df-41c29dcf-87ef-4a12-b4d5-963f6fae826a\">\n",
              "    <div class=\"colab-df-container\">\n",
              "      <div>\n",
              "<style scoped>\n",
              "    .dataframe tbody tr th:only-of-type {\n",
              "        vertical-align: middle;\n",
              "    }\n",
              "\n",
              "    .dataframe tbody tr th {\n",
              "        vertical-align: top;\n",
              "    }\n",
              "\n",
              "    .dataframe thead th {\n",
              "        text-align: right;\n",
              "    }\n",
              "</style>\n",
              "<table border=\"1\" class=\"dataframe\">\n",
              "  <thead>\n",
              "    <tr style=\"text-align: right;\">\n",
              "      <th></th>\n",
              "      <th>Name</th>\n",
              "      <th>python</th>\n",
              "      <th>mysql</th>\n",
              "      <th>Previous Geekions</th>\n",
              "      <th>CodeKata Score</th>\n",
              "      <th>Department</th>\n",
              "      <th>Rising</th>\n",
              "      <th>python_en</th>\n",
              "      <th>computational_thinking</th>\n",
              "    </tr>\n",
              "  </thead>\n",
              "  <tbody>\n",
              "    <tr>\n",
              "      <th>8</th>\n",
              "      <td>shifak N</td>\n",
              "      <td>58.0</td>\n",
              "      <td>0.0</td>\n",
              "      <td>5180</td>\n",
              "      <td>8320</td>\n",
              "      <td>Electronics and Electrical Engineering</td>\n",
              "      <td>3140</td>\n",
              "      <td>0.0</td>\n",
              "      <td>0.0</td>\n",
              "    </tr>\n",
              "    <tr>\n",
              "      <th>18</th>\n",
              "      <td>Narasimhan Y L</td>\n",
              "      <td>-1.0</td>\n",
              "      <td>0.0</td>\n",
              "      <td>4800</td>\n",
              "      <td>6800</td>\n",
              "      <td>Computer Science and Engineering</td>\n",
              "      <td>2000</td>\n",
              "      <td>-1.0</td>\n",
              "      <td>0.0</td>\n",
              "    </tr>\n",
              "    <tr>\n",
              "      <th>2</th>\n",
              "      <td>Ganesh Ramkumar R</td>\n",
              "      <td>-1.0</td>\n",
              "      <td>24.0</td>\n",
              "      <td>8790</td>\n",
              "      <td>10790</td>\n",
              "      <td>Computer Science and Engineering</td>\n",
              "      <td>2000</td>\n",
              "      <td>55.0</td>\n",
              "      <td>6.0</td>\n",
              "    </tr>\n",
              "  </tbody>\n",
              "</table>\n",
              "</div>\n",
              "      <button class=\"colab-df-convert\" onclick=\"convertToInteractive('df-41c29dcf-87ef-4a12-b4d5-963f6fae826a')\"\n",
              "              title=\"Convert this dataframe to an interactive table.\"\n",
              "              style=\"display:none;\">\n",
              "        \n",
              "  <svg xmlns=\"http://www.w3.org/2000/svg\" height=\"24px\"viewBox=\"0 0 24 24\"\n",
              "       width=\"24px\">\n",
              "    <path d=\"M0 0h24v24H0V0z\" fill=\"none\"/>\n",
              "    <path d=\"M18.56 5.44l.94 2.06.94-2.06 2.06-.94-2.06-.94-.94-2.06-.94 2.06-2.06.94zm-11 1L8.5 8.5l.94-2.06 2.06-.94-2.06-.94L8.5 2.5l-.94 2.06-2.06.94zm10 10l.94 2.06.94-2.06 2.06-.94-2.06-.94-.94-2.06-.94 2.06-2.06.94z\"/><path d=\"M17.41 7.96l-1.37-1.37c-.4-.4-.92-.59-1.43-.59-.52 0-1.04.2-1.43.59L10.3 9.45l-7.72 7.72c-.78.78-.78 2.05 0 2.83L4 21.41c.39.39.9.59 1.41.59.51 0 1.02-.2 1.41-.59l7.78-7.78 2.81-2.81c.8-.78.8-2.07 0-2.86zM5.41 20L4 18.59l7.72-7.72 1.47 1.35L5.41 20z\"/>\n",
              "  </svg>\n",
              "      </button>\n",
              "      \n",
              "  <style>\n",
              "    .colab-df-container {\n",
              "      display:flex;\n",
              "      flex-wrap:wrap;\n",
              "      gap: 12px;\n",
              "    }\n",
              "\n",
              "    .colab-df-convert {\n",
              "      background-color: #E8F0FE;\n",
              "      border: none;\n",
              "      border-radius: 50%;\n",
              "      cursor: pointer;\n",
              "      display: none;\n",
              "      fill: #1967D2;\n",
              "      height: 32px;\n",
              "      padding: 0 0 0 0;\n",
              "      width: 32px;\n",
              "    }\n",
              "\n",
              "    .colab-df-convert:hover {\n",
              "      background-color: #E2EBFA;\n",
              "      box-shadow: 0px 1px 2px rgba(60, 64, 67, 0.3), 0px 1px 3px 1px rgba(60, 64, 67, 0.15);\n",
              "      fill: #174EA6;\n",
              "    }\n",
              "\n",
              "    [theme=dark] .colab-df-convert {\n",
              "      background-color: #3B4455;\n",
              "      fill: #D2E3FC;\n",
              "    }\n",
              "\n",
              "    [theme=dark] .colab-df-convert:hover {\n",
              "      background-color: #434B5C;\n",
              "      box-shadow: 0px 1px 3px 1px rgba(0, 0, 0, 0.15);\n",
              "      filter: drop-shadow(0px 1px 2px rgba(0, 0, 0, 0.3));\n",
              "      fill: #FFFFFF;\n",
              "    }\n",
              "  </style>\n",
              "\n",
              "      <script>\n",
              "        const buttonEl =\n",
              "          document.querySelector('#df-41c29dcf-87ef-4a12-b4d5-963f6fae826a button.colab-df-convert');\n",
              "        buttonEl.style.display =\n",
              "          google.colab.kernel.accessAllowed ? 'block' : 'none';\n",
              "\n",
              "        async function convertToInteractive(key) {\n",
              "          const element = document.querySelector('#df-41c29dcf-87ef-4a12-b4d5-963f6fae826a');\n",
              "          const dataTable =\n",
              "            await google.colab.kernel.invokeFunction('convertToInteractive',\n",
              "                                                     [key], {});\n",
              "          if (!dataTable) return;\n",
              "\n",
              "          const docLinkHtml = 'Like what you see? Visit the ' +\n",
              "            '<a target=\"_blank\" href=https://colab.research.google.com/notebooks/data_table.ipynb>data table notebook</a>'\n",
              "            + ' to learn more about interactive tables.';\n",
              "          element.innerHTML = '';\n",
              "          dataTable['output_type'] = 'display_data';\n",
              "          await google.colab.output.renderOutput(dataTable, element);\n",
              "          const docLink = document.createElement('div');\n",
              "          docLink.innerHTML = docLinkHtml;\n",
              "          element.appendChild(docLink);\n",
              "        }\n",
              "      </script>\n",
              "    </div>\n",
              "  </div>\n",
              "  "
            ]
          },
          "metadata": {},
          "execution_count": 74
        }
      ],
      "source": [
        "df.sort_values(by=['Rising'],axis=0,ascending=False).head(3)"
      ]
    },
    {
      "cell_type": "markdown",
      "metadata": {
        "id": "bdTO-qjIxzGg"
      },
      "source": [
        "###### Shining stars of the week (top 3 candidates who has highest geekions)"
      ]
    },
    {
      "cell_type": "code",
      "execution_count": null,
      "metadata": {
        "id": "AlwyqiO-xzGg",
        "outputId": "553ccd35-e4a7-47cd-ddcb-8bc4854db34e",
        "colab": {
          "base_uri": "https://localhost:8080/",
          "height": 187
        }
      },
      "outputs": [
        {
          "output_type": "execute_result",
          "data": {
            "text/plain": [
              "          Name  python  mysql  Previous Geekions  CodeKata Score  \\\n",
              "0    A.Dharani    82.0   20.0              24500           24500   \n",
              "1  V.JEEVITHA     82.0   20.0              21740           21740   \n",
              "2  HEMAVATHI.R   100.0  100.0              19680           19680   \n",
              "\n",
              "                         Department  Rising  python_en  computational_thinking  \n",
              "0  Computer Science and Engineering       0        NaN                     NaN  \n",
              "1  Computer Science and Engineering       0        NaN                     NaN  \n",
              "2  Computer Science and Engineering       0        NaN                     NaN  "
            ],
            "text/html": [
              "\n",
              "  <div id=\"df-7c87c0f6-5573-4b00-9e47-ff7531249bcc\">\n",
              "    <div class=\"colab-df-container\">\n",
              "      <div>\n",
              "<style scoped>\n",
              "    .dataframe tbody tr th:only-of-type {\n",
              "        vertical-align: middle;\n",
              "    }\n",
              "\n",
              "    .dataframe tbody tr th {\n",
              "        vertical-align: top;\n",
              "    }\n",
              "\n",
              "    .dataframe thead th {\n",
              "        text-align: right;\n",
              "    }\n",
              "</style>\n",
              "<table border=\"1\" class=\"dataframe\">\n",
              "  <thead>\n",
              "    <tr style=\"text-align: right;\">\n",
              "      <th></th>\n",
              "      <th>Name</th>\n",
              "      <th>python</th>\n",
              "      <th>mysql</th>\n",
              "      <th>Previous Geekions</th>\n",
              "      <th>CodeKata Score</th>\n",
              "      <th>Department</th>\n",
              "      <th>Rising</th>\n",
              "      <th>python_en</th>\n",
              "      <th>computational_thinking</th>\n",
              "    </tr>\n",
              "  </thead>\n",
              "  <tbody>\n",
              "    <tr>\n",
              "      <th>0</th>\n",
              "      <td>A.Dharani</td>\n",
              "      <td>82.0</td>\n",
              "      <td>20.0</td>\n",
              "      <td>24500</td>\n",
              "      <td>24500</td>\n",
              "      <td>Computer Science and Engineering</td>\n",
              "      <td>0</td>\n",
              "      <td>NaN</td>\n",
              "      <td>NaN</td>\n",
              "    </tr>\n",
              "    <tr>\n",
              "      <th>1</th>\n",
              "      <td>V.JEEVITHA</td>\n",
              "      <td>82.0</td>\n",
              "      <td>20.0</td>\n",
              "      <td>21740</td>\n",
              "      <td>21740</td>\n",
              "      <td>Computer Science and Engineering</td>\n",
              "      <td>0</td>\n",
              "      <td>NaN</td>\n",
              "      <td>NaN</td>\n",
              "    </tr>\n",
              "    <tr>\n",
              "      <th>2</th>\n",
              "      <td>HEMAVATHI.R</td>\n",
              "      <td>100.0</td>\n",
              "      <td>100.0</td>\n",
              "      <td>19680</td>\n",
              "      <td>19680</td>\n",
              "      <td>Computer Science and Engineering</td>\n",
              "      <td>0</td>\n",
              "      <td>NaN</td>\n",
              "      <td>NaN</td>\n",
              "    </tr>\n",
              "  </tbody>\n",
              "</table>\n",
              "</div>\n",
              "      <button class=\"colab-df-convert\" onclick=\"convertToInteractive('df-7c87c0f6-5573-4b00-9e47-ff7531249bcc')\"\n",
              "              title=\"Convert this dataframe to an interactive table.\"\n",
              "              style=\"display:none;\">\n",
              "        \n",
              "  <svg xmlns=\"http://www.w3.org/2000/svg\" height=\"24px\"viewBox=\"0 0 24 24\"\n",
              "       width=\"24px\">\n",
              "    <path d=\"M0 0h24v24H0V0z\" fill=\"none\"/>\n",
              "    <path d=\"M18.56 5.44l.94 2.06.94-2.06 2.06-.94-2.06-.94-.94-2.06-.94 2.06-2.06.94zm-11 1L8.5 8.5l.94-2.06 2.06-.94-2.06-.94L8.5 2.5l-.94 2.06-2.06.94zm10 10l.94 2.06.94-2.06 2.06-.94-2.06-.94-.94-2.06-.94 2.06-2.06.94z\"/><path d=\"M17.41 7.96l-1.37-1.37c-.4-.4-.92-.59-1.43-.59-.52 0-1.04.2-1.43.59L10.3 9.45l-7.72 7.72c-.78.78-.78 2.05 0 2.83L4 21.41c.39.39.9.59 1.41.59.51 0 1.02-.2 1.41-.59l7.78-7.78 2.81-2.81c.8-.78.8-2.07 0-2.86zM5.41 20L4 18.59l7.72-7.72 1.47 1.35L5.41 20z\"/>\n",
              "  </svg>\n",
              "      </button>\n",
              "      \n",
              "  <style>\n",
              "    .colab-df-container {\n",
              "      display:flex;\n",
              "      flex-wrap:wrap;\n",
              "      gap: 12px;\n",
              "    }\n",
              "\n",
              "    .colab-df-convert {\n",
              "      background-color: #E8F0FE;\n",
              "      border: none;\n",
              "      border-radius: 50%;\n",
              "      cursor: pointer;\n",
              "      display: none;\n",
              "      fill: #1967D2;\n",
              "      height: 32px;\n",
              "      padding: 0 0 0 0;\n",
              "      width: 32px;\n",
              "    }\n",
              "\n",
              "    .colab-df-convert:hover {\n",
              "      background-color: #E2EBFA;\n",
              "      box-shadow: 0px 1px 2px rgba(60, 64, 67, 0.3), 0px 1px 3px 1px rgba(60, 64, 67, 0.15);\n",
              "      fill: #174EA6;\n",
              "    }\n",
              "\n",
              "    [theme=dark] .colab-df-convert {\n",
              "      background-color: #3B4455;\n",
              "      fill: #D2E3FC;\n",
              "    }\n",
              "\n",
              "    [theme=dark] .colab-df-convert:hover {\n",
              "      background-color: #434B5C;\n",
              "      box-shadow: 0px 1px 3px 1px rgba(0, 0, 0, 0.15);\n",
              "      filter: drop-shadow(0px 1px 2px rgba(0, 0, 0, 0.3));\n",
              "      fill: #FFFFFF;\n",
              "    }\n",
              "  </style>\n",
              "\n",
              "      <script>\n",
              "        const buttonEl =\n",
              "          document.querySelector('#df-7c87c0f6-5573-4b00-9e47-ff7531249bcc button.colab-df-convert');\n",
              "        buttonEl.style.display =\n",
              "          google.colab.kernel.accessAllowed ? 'block' : 'none';\n",
              "\n",
              "        async function convertToInteractive(key) {\n",
              "          const element = document.querySelector('#df-7c87c0f6-5573-4b00-9e47-ff7531249bcc');\n",
              "          const dataTable =\n",
              "            await google.colab.kernel.invokeFunction('convertToInteractive',\n",
              "                                                     [key], {});\n",
              "          if (!dataTable) return;\n",
              "\n",
              "          const docLinkHtml = 'Like what you see? Visit the ' +\n",
              "            '<a target=\"_blank\" href=https://colab.research.google.com/notebooks/data_table.ipynb>data table notebook</a>'\n",
              "            + ' to learn more about interactive tables.';\n",
              "          element.innerHTML = '';\n",
              "          dataTable['output_type'] = 'display_data';\n",
              "          await google.colab.output.renderOutput(dataTable, element);\n",
              "          const docLink = document.createElement('div');\n",
              "          docLink.innerHTML = docLinkHtml;\n",
              "          element.appendChild(docLink);\n",
              "        }\n",
              "      </script>\n",
              "    </div>\n",
              "  </div>\n",
              "  "
            ]
          },
          "metadata": {},
          "execution_count": 75
        }
      ],
      "source": [
        "df.sort_values(by =['Previous Geekions'],axis=0,ascending=False).head(3)"
      ]
    },
    {
      "cell_type": "markdown",
      "metadata": {
        "id": "A4oUgbv1xzGh"
      },
      "source": [
        "###### Department wise codekata performence (pie chart)"
      ]
    },
    {
      "cell_type": "code",
      "execution_count": null,
      "metadata": {
        "id": "827bfruBxzGh"
      },
      "outputs": [],
      "source": [
        "import matplotlib as plt\n",
        "import numpy as np\n"
      ]
    },
    {
      "cell_type": "code",
      "source": [
        "dept_data=df['Department']\n",
        "code_data=df['CodeKata Score']\n"
      ],
      "metadata": {
        "id": "7_JtCQx89J0J"
      },
      "execution_count": null,
      "outputs": []
    },
    {
      "cell_type": "code",
      "source": [
        "dept_data.value_counts()\n"
      ],
      "metadata": {
        "id": "U-JO0-nz_ZE9",
        "outputId": "1c4baa08-5542-4833-8fda-be0453c0cb21",
        "colab": {
          "base_uri": "https://localhost:8080/"
        }
      },
      "execution_count": null,
      "outputs": [
        {
          "output_type": "execute_result",
          "data": {
            "text/plain": [
              "Computer Science and Engineering             63\n",
              "Electronics and Communication Engineering    39\n",
              "Electronics and Electrical Engineering       17\n",
              "Name: Department, dtype: int64"
            ]
          },
          "metadata": {},
          "execution_count": 104
        }
      ]
    },
    {
      "cell_type": "code",
      "source": [
        "dep=df.groupby('Department')['CodeKata Score'].sum()\n",
        "dep\n"
      ],
      "metadata": {
        "id": "nQneGKGM_yDz",
        "outputId": "3f04de6e-1dc0-4ea8-a5cb-11254794754a",
        "colab": {
          "base_uri": "https://localhost:8080/"
        }
      },
      "execution_count": null,
      "outputs": [
        {
          "output_type": "execute_result",
          "data": {
            "text/plain": [
              "Department\n",
              "Computer Science and Engineering             320025\n",
              "Electronics and Communication Engineering    108335\n",
              "Electronics and Electrical Engineering        53800\n",
              "Name: CodeKata Score, dtype: int64"
            ]
          },
          "metadata": {},
          "execution_count": 108
        }
      ]
    },
    {
      "cell_type": "code",
      "source": [
        "dep.plot.pie()\n"
      ],
      "metadata": {
        "id": "8jKtFSOoAdFr",
        "outputId": "edc1f8c8-20d9-4e12-ad35-7da26f9ac248",
        "colab": {
          "base_uri": "https://localhost:8080/",
          "height": 265
        }
      },
      "execution_count": null,
      "outputs": [
        {
          "output_type": "execute_result",
          "data": {
            "text/plain": [
              "<matplotlib.axes._subplots.AxesSubplot at 0x7ff59eb713d0>"
            ]
          },
          "metadata": {},
          "execution_count": 112
        },
        {
          "output_type": "display_data",
          "data": {
            "text/plain": [
              "<Figure size 432x288 with 1 Axes>"
            ],
            "image/png": "[encoded data removed]"
          },
          "metadata": {}
        }
      ]
    },
    {
      "cell_type": "markdown",
      "metadata": {
        "id": "9_z4ECOvxzGh"
      },
      "source": [
        "###### Department wise toppers (horizantal bar graph or any visual representations of your choice)"
      ]
    },
    {
      "cell_type": "code",
      "execution_count": null,
      "metadata": {
        "id": "bqGxAyHIxzGi",
        "outputId": "0cee386b-0d92-4eba-cf9c-5c382ec4e1df",
        "colab": {
          "base_uri": "https://localhost:8080/",
          "height": 229
        }
      },
      "outputs": [
        {
          "output_type": "stream",
          "name": "stderr",
          "text": [
            "/usr/local/lib/python3.7/dist-packages/ipykernel_launcher.py:1: FutureWarning: Indexing with multiple keys (implicitly converted to a tuple of keys) will be deprecated, use a list instead.\n",
            "  \"\"\"Entry point for launching an IPython kernel.\n"
          ]
        },
        {
          "output_type": "execute_result",
          "data": {
            "text/plain": [
              "                                                     Name  \\\n",
              "Department                                                  \n",
              "Computer Science and Engineering              vijayakumar   \n",
              "Electronics and Communication Engineering       vignesh B   \n",
              "Electronics and Electrical Engineering     yaser ahamed.A   \n",
              "\n",
              "                                                                          Department  \\\n",
              "Department                                                                             \n",
              "Computer Science and Engineering                    Computer Science and Engineering   \n",
              "Electronics and Communication Engineering  Electronics and Communication Engineering   \n",
              "Electronics and Electrical Engineering        Electronics and Electrical Engineering   \n",
              "\n",
              "                                           CodeKata Score  \n",
              "Department                                                 \n",
              "Computer Science and Engineering                    24500  \n",
              "Electronics and Communication Engineering           10040  \n",
              "Electronics and Electrical Engineering              19400  "
            ],
            "text/html": [
              "\n",
              "  <div id=\"df-049d887c-7ee5-4d1d-8472-904a34b9683e\">\n",
              "    <div class=\"colab-df-container\">\n",
              "      <div>\n",
              "<style scoped>\n",
              "    .dataframe tbody tr th:only-of-type {\n",
              "        vertical-align: middle;\n",
              "    }\n",
              "\n",
              "    .dataframe tbody tr th {\n",
              "        vertical-align: top;\n",
              "    }\n",
              "\n",
              "    .dataframe thead th {\n",
              "        text-align: right;\n",
              "    }\n",
              "</style>\n",
              "<table border=\"1\" class=\"dataframe\">\n",
              "  <thead>\n",
              "    <tr style=\"text-align: right;\">\n",
              "      <th></th>\n",
              "      <th>Name</th>\n",
              "      <th>Department</th>\n",
              "      <th>CodeKata Score</th>\n",
              "    </tr>\n",
              "    <tr>\n",
              "      <th>Department</th>\n",
              "      <th></th>\n",
              "      <th></th>\n",
              "      <th></th>\n",
              "    </tr>\n",
              "  </thead>\n",
              "  <tbody>\n",
              "    <tr>\n",
              "      <th>Computer Science and Engineering</th>\n",
              "      <td>vijayakumar</td>\n",
              "      <td>Computer Science and Engineering</td>\n",
              "      <td>24500</td>\n",
              "    </tr>\n",
              "    <tr>\n",
              "      <th>Electronics and Communication Engineering</th>\n",
              "      <td>vignesh B</td>\n",
              "      <td>Electronics and Communication Engineering</td>\n",
              "      <td>10040</td>\n",
              "    </tr>\n",
              "    <tr>\n",
              "      <th>Electronics and Electrical Engineering</th>\n",
              "      <td>yaser ahamed.A</td>\n",
              "      <td>Electronics and Electrical Engineering</td>\n",
              "      <td>19400</td>\n",
              "    </tr>\n",
              "  </tbody>\n",
              "</table>\n",
              "</div>\n",
              "      <button class=\"colab-df-convert\" onclick=\"convertToInteractive('df-049d887c-7ee5-4d1d-8472-904a34b9683e')\"\n",
              "              title=\"Convert this dataframe to an interactive table.\"\n",
              "              style=\"display:none;\">\n",
              "        \n",
              "  <svg xmlns=\"http://www.w3.org/2000/svg\" height=\"24px\"viewBox=\"0 0 24 24\"\n",
              "       width=\"24px\">\n",
              "    <path d=\"M0 0h24v24H0V0z\" fill=\"none\"/>\n",
              "    <path d=\"M18.56 5.44l.94 2.06.94-2.06 2.06-.94-2.06-.94-.94-2.06-.94 2.06-2.06.94zm-11 1L8.5 8.5l.94-2.06 2.06-.94-2.06-.94L8.5 2.5l-.94 2.06-2.06.94zm10 10l.94 2.06.94-2.06 2.06-.94-2.06-.94-.94-2.06-.94 2.06-2.06.94z\"/><path d=\"M17.41 7.96l-1.37-1.37c-.4-.4-.92-.59-1.43-.59-.52 0-1.04.2-1.43.59L10.3 9.45l-7.72 7.72c-.78.78-.78 2.05 0 2.83L4 21.41c.39.39.9.59 1.41.59.51 0 1.02-.2 1.41-.59l7.78-7.78 2.81-2.81c.8-.78.8-2.07 0-2.86zM5.41 20L4 18.59l7.72-7.72 1.47 1.35L5.41 20z\"/>\n",
              "  </svg>\n",
              "      </button>\n",
              "      \n",
              "  <style>\n",
              "    .colab-df-container {\n",
              "      display:flex;\n",
              "      flex-wrap:wrap;\n",
              "      gap: 12px;\n",
              "    }\n",
              "\n",
              "    .colab-df-convert {\n",
              "      background-color: #E8F0FE;\n",
              "      border: none;\n",
              "      border-radius: 50%;\n",
              "      cursor: pointer;\n",
              "      display: none;\n",
              "      fill: #1967D2;\n",
              "      height: 32px;\n",
              "      padding: 0 0 0 0;\n",
              "      width: 32px;\n",
              "    }\n",
              "\n",
              "    .colab-df-convert:hover {\n",
              "      background-color: #E2EBFA;\n",
              "      box-shadow: 0px 1px 2px rgba(60, 64, 67, 0.3), 0px 1px 3px 1px rgba(60, 64, 67, 0.15);\n",
              "      fill: #174EA6;\n",
              "    }\n",
              "\n",
              "    [theme=dark] .colab-df-convert {\n",
              "      background-color: #3B4455;\n",
              "      fill: #D2E3FC;\n",
              "    }\n",
              "\n",
              "    [theme=dark] .colab-df-convert:hover {\n",
              "      background-color: #434B5C;\n",
              "      box-shadow: 0px 1px 3px 1px rgba(0, 0, 0, 0.15);\n",
              "      filter: drop-shadow(0px 1px 2px rgba(0, 0, 0, 0.3));\n",
              "      fill: #FFFFFF;\n",
              "    }\n",
              "  </style>\n",
              "\n",
              "      <script>\n",
              "        const buttonEl =\n",
              "          document.querySelector('#df-049d887c-7ee5-4d1d-8472-904a34b9683e button.colab-df-convert');\n",
              "        buttonEl.style.display =\n",
              "          google.colab.kernel.accessAllowed ? 'block' : 'none';\n",
              "\n",
              "        async function convertToInteractive(key) {\n",
              "          const element = document.querySelector('#df-049d887c-7ee5-4d1d-8472-904a34b9683e');\n",
              "          const dataTable =\n",
              "            await google.colab.kernel.invokeFunction('convertToInteractive',\n",
              "                                                     [key], {});\n",
              "          if (!dataTable) return;\n",
              "\n",
              "          const docLinkHtml = 'Like what you see? Visit the ' +\n",
              "            '<a target=\"_blank\" href=https://colab.research.google.com/notebooks/data_table.ipynb>data table notebook</a>'\n",
              "            + ' to learn more about interactive tables.';\n",
              "          element.innerHTML = '';\n",
              "          dataTable['output_type'] = 'display_data';\n",
              "          await google.colab.output.renderOutput(dataTable, element);\n",
              "          const docLink = document.createElement('div');\n",
              "          docLink.innerHTML = docLinkHtml;\n",
              "          element.appendChild(docLink);\n",
              "        }\n",
              "      </script>\n",
              "    </div>\n",
              "  </div>\n",
              "  "
            ]
          },
          "metadata": {},
          "execution_count": 115
        }
      ],
      "source": [
        "dept_top=df.groupby(\"Department\")['Name','Department','CodeKata Score'].max()\n",
        "dept_top"
      ]
    },
    {
      "cell_type": "code",
      "execution_count": null,
      "metadata": {
        "id": "bCyR8vGsxzGi",
        "outputId": "99fc1827-ce4e-4194-deaa-2b31f4d2e01b",
        "colab": {
          "base_uri": "https://localhost:8080/",
          "height": 296
        }
      },
      "outputs": [
        {
          "output_type": "execute_result",
          "data": {
            "text/plain": [
              "<matplotlib.axes._subplots.AxesSubplot at 0x7ff59eb40590>"
            ]
          },
          "metadata": {},
          "execution_count": 119
        },
        {
          "output_type": "display_data",
          "data": {
            "text/plain": [
              "<Figure size 432x288 with 1 Axes>"
            ],
            "image/png": "[encoded data removed]"
          },
          "metadata": {
            "needs_background": "light"
          }
        }
      ],
      "source": [
        "import seaborn as sns\n",
        "sns.barplot(x='Name',y='CodeKata Score',hue='Department',data=dept_top)"
      ]
    },
    {
      "cell_type": "code",
      "execution_count": null,
      "metadata": {
        "id": "cPLGx2JdxzGi"
      },
      "outputs": [],
      "source": [
        ""
      ]
    }
  ],
  "metadata": {
    "kernelspec": {
      "display_name": "Python 3",
      "language": "python",
      "name": "python3"
    },
    "language_info": {
      "codemirror_mode": {
        "name": "ipython",
        "version": 3
      },
      "file_extension": ".py",
      "mimetype": "text/x-python",
      "name": "python",
      "nbconvert_exporter": "python",
      "pygments_lexer": "ipython3",
      "version": "3.8.3"
    },
    "colab": {
      "name": "Copy of Assessment2B.ipynb",
      "provenance": [],
      "include_colab_link": true
    }
  },
  "nbformat": 4,
  "nbformat_minor": 0
}